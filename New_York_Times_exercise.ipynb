{
 "cells": [
  {
   "cell_type": "markdown",
   "metadata": {},
   "source": [
    "# New York Times exercise\n",
    "\n",
    "The objective is to study the click behavior of people over time and establish useful segments for this purpose.\n",
    "\n",
    "## Import libraries and dependencies"
   ]
  },
  {
   "cell_type": "code",
   "execution_count": 1,
   "metadata": {
    "ExecuteTime": {
     "end_time": "2019-03-01T06:47:25.686965Z",
     "start_time": "2019-03-01T06:47:23.956038Z"
    }
   },
   "outputs": [],
   "source": [
    "%matplotlib inline\n",
    "import numpy as np\n",
    "import pandas as pd\n",
    "import matplotlib.pyplot as plt\n",
    "import matplotlib as mpl\n",
    "import seaborn as sns\n",
    "plt.style.use('ggplot')\n",
    "mpl.rcParams['agg.path.chunksize'] = 10000"
   ]
  },
  {
   "cell_type": "markdown",
   "metadata": {},
   "source": [
    "## Loading the data of a single day"
   ]
  },
  {
   "cell_type": "code",
   "execution_count": 2,
   "metadata": {
    "ExecuteTime": {
     "end_time": "2019-03-01T06:47:40.213882Z",
     "start_time": "2019-03-01T06:47:25.689963Z"
    }
   },
   "outputs": [],
   "source": [
    "url_1 = 'http://stat.columbia.edu/~rachel/datasets/nyt1.csv'\n",
    "data1 = pd.read_csv(url_1, skiprows=1, header=None)\n",
    "col_names = ['Age', 'Gender', 'Impressions', 'Clicks', 'Signed_In']\n",
    "data1.columns = col_names"
   ]
  },
  {
   "cell_type": "code",
   "execution_count": 3,
   "metadata": {
    "ExecuteTime": {
     "end_time": "2019-03-01T06:47:40.239869Z",
     "start_time": "2019-03-01T06:47:40.215880Z"
    },
    "scrolled": true
   },
   "outputs": [
    {
     "data": {
      "text/html": [
       "<div>\n",
       "<style scoped>\n",
       "    .dataframe tbody tr th:only-of-type {\n",
       "        vertical-align: middle;\n",
       "    }\n",
       "\n",
       "    .dataframe tbody tr th {\n",
       "        vertical-align: top;\n",
       "    }\n",
       "\n",
       "    .dataframe thead th {\n",
       "        text-align: right;\n",
       "    }\n",
       "</style>\n",
       "<table border=\"1\" class=\"dataframe\">\n",
       "  <thead>\n",
       "    <tr style=\"text-align: right;\">\n",
       "      <th></th>\n",
       "      <th>Age</th>\n",
       "      <th>Gender</th>\n",
       "      <th>Impressions</th>\n",
       "      <th>Clicks</th>\n",
       "      <th>Signed_In</th>\n",
       "    </tr>\n",
       "  </thead>\n",
       "  <tbody>\n",
       "    <tr>\n",
       "      <th>0</th>\n",
       "      <td>36</td>\n",
       "      <td>0</td>\n",
       "      <td>3</td>\n",
       "      <td>0</td>\n",
       "      <td>1</td>\n",
       "    </tr>\n",
       "    <tr>\n",
       "      <th>1</th>\n",
       "      <td>73</td>\n",
       "      <td>1</td>\n",
       "      <td>3</td>\n",
       "      <td>0</td>\n",
       "      <td>1</td>\n",
       "    </tr>\n",
       "    <tr>\n",
       "      <th>2</th>\n",
       "      <td>30</td>\n",
       "      <td>0</td>\n",
       "      <td>3</td>\n",
       "      <td>0</td>\n",
       "      <td>1</td>\n",
       "    </tr>\n",
       "    <tr>\n",
       "      <th>3</th>\n",
       "      <td>49</td>\n",
       "      <td>1</td>\n",
       "      <td>3</td>\n",
       "      <td>0</td>\n",
       "      <td>1</td>\n",
       "    </tr>\n",
       "    <tr>\n",
       "      <th>4</th>\n",
       "      <td>47</td>\n",
       "      <td>1</td>\n",
       "      <td>11</td>\n",
       "      <td>0</td>\n",
       "      <td>1</td>\n",
       "    </tr>\n",
       "  </tbody>\n",
       "</table>\n",
       "</div>"
      ],
      "text/plain": [
       "   Age  Gender  Impressions  Clicks  Signed_In\n",
       "0   36       0            3       0          1\n",
       "1   73       1            3       0          1\n",
       "2   30       0            3       0          1\n",
       "3   49       1            3       0          1\n",
       "4   47       1           11       0          1"
      ]
     },
     "execution_count": 3,
     "metadata": {},
     "output_type": "execute_result"
    }
   ],
   "source": [
    "data1.head()"
   ]
  },
  {
   "cell_type": "markdown",
   "metadata": {},
   "source": [
    "### Mapping the data to the day it belongs to"
   ]
  },
  {
   "cell_type": "code",
   "execution_count": 4,
   "metadata": {
    "ExecuteTime": {
     "end_time": "2019-03-01T06:47:40.322815Z",
     "start_time": "2019-03-01T06:47:40.242865Z"
    },
    "scrolled": true
   },
   "outputs": [
    {
     "data": {
      "text/html": [
       "<div>\n",
       "<style scoped>\n",
       "    .dataframe tbody tr th:only-of-type {\n",
       "        vertical-align: middle;\n",
       "    }\n",
       "\n",
       "    .dataframe tbody tr th {\n",
       "        vertical-align: top;\n",
       "    }\n",
       "\n",
       "    .dataframe thead th {\n",
       "        text-align: right;\n",
       "    }\n",
       "</style>\n",
       "<table border=\"1\" class=\"dataframe\">\n",
       "  <thead>\n",
       "    <tr style=\"text-align: right;\">\n",
       "      <th></th>\n",
       "      <th>Age</th>\n",
       "      <th>Gender</th>\n",
       "      <th>Impressions</th>\n",
       "      <th>Clicks</th>\n",
       "      <th>Signed_In</th>\n",
       "      <th>date</th>\n",
       "    </tr>\n",
       "  </thead>\n",
       "  <tbody>\n",
       "    <tr>\n",
       "      <th>0</th>\n",
       "      <td>36</td>\n",
       "      <td>0</td>\n",
       "      <td>3</td>\n",
       "      <td>0</td>\n",
       "      <td>1</td>\n",
       "      <td>2012/5/1</td>\n",
       "    </tr>\n",
       "    <tr>\n",
       "      <th>1</th>\n",
       "      <td>73</td>\n",
       "      <td>1</td>\n",
       "      <td>3</td>\n",
       "      <td>0</td>\n",
       "      <td>1</td>\n",
       "      <td>2012/5/1</td>\n",
       "    </tr>\n",
       "    <tr>\n",
       "      <th>2</th>\n",
       "      <td>30</td>\n",
       "      <td>0</td>\n",
       "      <td>3</td>\n",
       "      <td>0</td>\n",
       "      <td>1</td>\n",
       "      <td>2012/5/1</td>\n",
       "    </tr>\n",
       "    <tr>\n",
       "      <th>3</th>\n",
       "      <td>49</td>\n",
       "      <td>1</td>\n",
       "      <td>3</td>\n",
       "      <td>0</td>\n",
       "      <td>1</td>\n",
       "      <td>2012/5/1</td>\n",
       "    </tr>\n",
       "    <tr>\n",
       "      <th>4</th>\n",
       "      <td>47</td>\n",
       "      <td>1</td>\n",
       "      <td>11</td>\n",
       "      <td>0</td>\n",
       "      <td>1</td>\n",
       "      <td>2012/5/1</td>\n",
       "    </tr>\n",
       "  </tbody>\n",
       "</table>\n",
       "</div>"
      ],
      "text/plain": [
       "   Age  Gender  Impressions  Clicks  Signed_In      date\n",
       "0   36       0            3       0          1  2012/5/1\n",
       "1   73       1            3       0          1  2012/5/1\n",
       "2   30       0            3       0          1  2012/5/1\n",
       "3   49       1            3       0          1  2012/5/1\n",
       "4   47       1           11       0          1  2012/5/1"
      ]
     },
     "execution_count": 4,
     "metadata": {},
     "output_type": "execute_result"
    }
   ],
   "source": [
    "data1['date'] = '2012/5/1'\n",
    "data1.head()"
   ]
  },
  {
   "cell_type": "markdown",
   "metadata": {},
   "source": [
    "## Cleaning data\n",
    "Erasing all observations where people clicked with no impressions.\n",
    "\n",
    "### Removing people with 0 impressions"
   ]
  },
  {
   "cell_type": "code",
   "execution_count": 5,
   "metadata": {
    "ExecuteTime": {
     "end_time": "2019-03-01T06:47:40.432748Z",
     "start_time": "2019-03-01T06:47:40.325812Z"
    }
   },
   "outputs": [
    {
     "data": {
      "text/plain": [
       "3066"
      ]
     },
     "execution_count": 5,
     "metadata": {},
     "output_type": "execute_result"
    }
   ],
   "source": [
    "(data1['Impressions']==0).sum()"
   ]
  },
  {
   "cell_type": "markdown",
   "metadata": {},
   "source": [
    "This means there were 3066 observations of people that were not showed impressions."
   ]
  },
  {
   "cell_type": "code",
   "execution_count": 6,
   "metadata": {
    "ExecuteTime": {
     "end_time": "2019-03-01T06:47:40.531687Z",
     "start_time": "2019-03-01T06:47:40.435746Z"
    }
   },
   "outputs": [
    {
     "data": {
      "text/plain": [
       "0    3066\n",
       "Name: Clicks, dtype: int64"
      ]
     },
     "execution_count": 6,
     "metadata": {},
     "output_type": "execute_result"
    }
   ],
   "source": [
    "no_imps = data1[data1['Impressions']==0]\n",
    "no_imps.Clicks.value_counts()"
   ]
  },
  {
   "cell_type": "markdown",
   "metadata": {},
   "source": [
    "This indicates that people that weren't shown impressions neither clicked. Therefore, these observations can be removed from our data."
   ]
  },
  {
   "cell_type": "code",
   "execution_count": 7,
   "metadata": {
    "ExecuteTime": {
     "end_time": "2019-03-01T06:47:40.716570Z",
     "start_time": "2019-03-01T06:47:40.534683Z"
    }
   },
   "outputs": [],
   "source": [
    "data1 = data1[data1['Impressions']>0]"
   ]
  },
  {
   "cell_type": "code",
   "execution_count": 8,
   "metadata": {
    "ExecuteTime": {
     "end_time": "2019-03-01T06:47:40.854485Z",
     "start_time": "2019-03-01T06:47:40.719568Z"
    },
    "scrolled": true
   },
   "outputs": [
    {
     "data": {
      "text/plain": [
       "5     80477\n",
       "4     80303\n",
       "6     66808\n",
       "3     64121\n",
       "7     48066\n",
       "2     38433\n",
       "8     30081\n",
       "9     16965\n",
       "1     15483\n",
       "10     8357\n",
       "11     3771\n",
       "12     1549\n",
       "13      647\n",
       "14      211\n",
       "15       64\n",
       "16       25\n",
       "17       11\n",
       "18        2\n",
       "20        1\n",
       "Name: Impressions, dtype: int64"
      ]
     },
     "execution_count": 8,
     "metadata": {},
     "output_type": "execute_result"
    }
   ],
   "source": [
    "data1.Impressions.value_counts()"
   ]
  },
  {
   "cell_type": "markdown",
   "metadata": {},
   "source": [
    "This confirms that there are just observations with one or more impressions now.\n",
    "\n",
    "### Gender in strings\n",
    "\n",
    "The gender is classified with `1` equals male and `0` equals female. Let's change these numeric values to strings that are more descriptive.\n",
    "\n",
    "After that, let's change the type of `Gender` column from `object` to `category`."
   ]
  },
  {
   "cell_type": "code",
   "execution_count": 9,
   "metadata": {
    "ExecuteTime": {
     "end_time": "2019-03-01T06:47:41.045370Z",
     "start_time": "2019-03-01T06:47:40.857484Z"
    },
    "scrolled": true
   },
   "outputs": [
    {
     "data": {
      "text/plain": [
       "0    288229\n",
       "1    167146\n",
       "Name: Gender, dtype: int64"
      ]
     },
     "execution_count": 9,
     "metadata": {},
     "output_type": "execute_result"
    }
   ],
   "source": [
    "data1.Gender.value_counts()"
   ]
  },
  {
   "cell_type": "code",
   "execution_count": 10,
   "metadata": {
    "ExecuteTime": {
     "end_time": "2019-03-01T06:47:41.477101Z",
     "start_time": "2019-03-01T06:47:41.048368Z"
    },
    "scrolled": true
   },
   "outputs": [
    {
     "data": {
      "text/plain": [
       "female    288229\n",
       "male      167146\n",
       "Name: Gender, dtype: int64"
      ]
     },
     "execution_count": 10,
     "metadata": {},
     "output_type": "execute_result"
    }
   ],
   "source": [
    "data1['Gender'] = data1.Gender.apply(lambda x: 'male' if x else 'female')\n",
    "data1.Gender.value_counts()"
   ]
  },
  {
   "cell_type": "markdown",
   "metadata": {},
   "source": [
    "Here, the count of males and females shows that there are almost **twice** females. This is a mistake because when people do not sign in, their gender is registered as `0`, and then this value was changed to `female` without truly knowing the gender.\n",
    "\n",
    "So let's replace 'female' with 'unknown' if `Signed_In` is `0`."
   ]
  },
  {
   "cell_type": "code",
   "execution_count": 11,
   "metadata": {
    "ExecuteTime": {
     "end_time": "2019-03-01T06:47:41.611016Z",
     "start_time": "2019-03-01T06:47:41.481097Z"
    }
   },
   "outputs": [],
   "source": [
    "data1['Gender'] = data1.Gender.astype(str)\n",
    "data1.loc[data1.Signed_In == 0, 'Gender'] = 'unknown'"
   ]
  },
  {
   "cell_type": "code",
   "execution_count": 12,
   "metadata": {
    "ExecuteTime": {
     "end_time": "2019-03-01T06:47:41.755927Z",
     "start_time": "2019-03-01T06:47:41.617013Z"
    }
   },
   "outputs": [
    {
     "data": {
      "text/plain": [
       "male       167146\n",
       "female     152052\n",
       "unknown    136177\n",
       "Name: Gender, dtype: int64"
      ]
     },
     "execution_count": 12,
     "metadata": {},
     "output_type": "execute_result"
    }
   ],
   "source": [
    "data1.Gender.value_counts()"
   ]
  },
  {
   "cell_type": "markdown",
   "metadata": {},
   "source": [
    "The last result shows that the difference between males and females exposed to the impressions is not as huge as shown before. Now we can change back the data type to `category` once again."
   ]
  },
  {
   "cell_type": "code",
   "execution_count": 13,
   "metadata": {
    "ExecuteTime": {
     "end_time": "2019-03-01T06:47:42.037752Z",
     "start_time": "2019-03-01T06:47:41.758925Z"
    }
   },
   "outputs": [
    {
     "name": "stdout",
     "output_type": "stream",
     "text": [
      "<class 'pandas.core.frame.DataFrame'>\n",
      "Int64Index: 455375 entries, 0 to 458440\n",
      "Data columns (total 6 columns):\n",
      "Age            455375 non-null int64\n",
      "Gender         455375 non-null category\n",
      "Impressions    455375 non-null int64\n",
      "Clicks         455375 non-null int64\n",
      "Signed_In      455375 non-null int64\n",
      "date           455375 non-null object\n",
      "dtypes: category(1), int64(4), object(1)\n",
      "memory usage: 21.3+ MB\n"
     ]
    }
   ],
   "source": [
    "data1['Gender'] = data1.Gender.astype('category')\n",
    "data1.info()"
   ]
  },
  {
   "cell_type": "markdown",
   "metadata": {},
   "source": [
    "# Categorizing people by age"
   ]
  },
  {
   "cell_type": "code",
   "execution_count": 14,
   "metadata": {
    "ExecuteTime": {
     "end_time": "2019-03-01T06:47:42.103712Z",
     "start_time": "2019-03-01T06:47:42.041750Z"
    },
    "scrolled": true
   },
   "outputs": [
    {
     "data": {
      "text/plain": [
       "count    455375.000000\n",
       "mean         29.484010\n",
       "std          23.606697\n",
       "min           0.000000\n",
       "25%           0.000000\n",
       "50%          31.000000\n",
       "75%          48.000000\n",
       "max         108.000000\n",
       "Name: Age, dtype: float64"
      ]
     },
     "execution_count": 14,
     "metadata": {},
     "output_type": "execute_result"
    }
   ],
   "source": [
    "data1.Age.describe()"
   ]
  },
  {
   "cell_type": "markdown",
   "metadata": {},
   "source": [
    "### Cleaning ages\n",
    "\n",
    "Let's create an age group **'unknown'** for the 0 years old. This entries come from people not logged-in. Therefore, the age is unknown."
   ]
  },
  {
   "cell_type": "code",
   "execution_count": 15,
   "metadata": {
    "ExecuteTime": {
     "end_time": "2019-03-01T06:47:42.376544Z",
     "start_time": "2019-03-01T06:47:42.106710Z"
    },
    "scrolled": false
   },
   "outputs": [
    {
     "name": "stdout",
     "output_type": "stream",
     "text": [
      "<class 'pandas.core.frame.DataFrame'>\n",
      "Int64Index: 455375 entries, 0 to 458440\n",
      "Data columns (total 7 columns):\n",
      "Age            455375 non-null int64\n",
      "Gender         455375 non-null category\n",
      "Impressions    455375 non-null int64\n",
      "Clicks         455375 non-null int64\n",
      "Signed_In      455375 non-null int64\n",
      "date           455375 non-null object\n",
      "age_group      455375 non-null category\n",
      "dtypes: category(2), int64(4), object(1)\n",
      "memory usage: 21.7+ MB\n"
     ]
    }
   ],
   "source": [
    "bins = [0, 1, 18, 25, 35, 45, 55, 65, np.Inf]\n",
    "labels = ['unknown', '<18', '18-24', '25-34', '35-44', '45-54', '55-64', '65+']\n",
    "data1['age_group'] = pd.cut(data1.Age, bins=bins, labels=labels, right=False)\n",
    "data1['age_group'] = data1.age_group.astype('category')\n",
    "data1.info()"
   ]
  },
  {
   "cell_type": "code",
   "execution_count": 16,
   "metadata": {
    "ExecuteTime": {
     "end_time": "2019-03-01T06:47:42.400527Z",
     "start_time": "2019-03-01T06:47:42.381542Z"
    },
    "scrolled": false
   },
   "outputs": [
    {
     "data": {
      "text/html": [
       "<div>\n",
       "<style scoped>\n",
       "    .dataframe tbody tr th:only-of-type {\n",
       "        vertical-align: middle;\n",
       "    }\n",
       "\n",
       "    .dataframe tbody tr th {\n",
       "        vertical-align: top;\n",
       "    }\n",
       "\n",
       "    .dataframe thead th {\n",
       "        text-align: right;\n",
       "    }\n",
       "</style>\n",
       "<table border=\"1\" class=\"dataframe\">\n",
       "  <thead>\n",
       "    <tr style=\"text-align: right;\">\n",
       "      <th></th>\n",
       "      <th>Age</th>\n",
       "      <th>Gender</th>\n",
       "      <th>Impressions</th>\n",
       "      <th>Clicks</th>\n",
       "      <th>Signed_In</th>\n",
       "      <th>date</th>\n",
       "      <th>age_group</th>\n",
       "    </tr>\n",
       "  </thead>\n",
       "  <tbody>\n",
       "    <tr>\n",
       "      <th>0</th>\n",
       "      <td>36</td>\n",
       "      <td>female</td>\n",
       "      <td>3</td>\n",
       "      <td>0</td>\n",
       "      <td>1</td>\n",
       "      <td>2012/5/1</td>\n",
       "      <td>35-44</td>\n",
       "    </tr>\n",
       "    <tr>\n",
       "      <th>1</th>\n",
       "      <td>73</td>\n",
       "      <td>male</td>\n",
       "      <td>3</td>\n",
       "      <td>0</td>\n",
       "      <td>1</td>\n",
       "      <td>2012/5/1</td>\n",
       "      <td>65+</td>\n",
       "    </tr>\n",
       "    <tr>\n",
       "      <th>2</th>\n",
       "      <td>30</td>\n",
       "      <td>female</td>\n",
       "      <td>3</td>\n",
       "      <td>0</td>\n",
       "      <td>1</td>\n",
       "      <td>2012/5/1</td>\n",
       "      <td>25-34</td>\n",
       "    </tr>\n",
       "    <tr>\n",
       "      <th>3</th>\n",
       "      <td>49</td>\n",
       "      <td>male</td>\n",
       "      <td>3</td>\n",
       "      <td>0</td>\n",
       "      <td>1</td>\n",
       "      <td>2012/5/1</td>\n",
       "      <td>45-54</td>\n",
       "    </tr>\n",
       "    <tr>\n",
       "      <th>4</th>\n",
       "      <td>47</td>\n",
       "      <td>male</td>\n",
       "      <td>11</td>\n",
       "      <td>0</td>\n",
       "      <td>1</td>\n",
       "      <td>2012/5/1</td>\n",
       "      <td>45-54</td>\n",
       "    </tr>\n",
       "  </tbody>\n",
       "</table>\n",
       "</div>"
      ],
      "text/plain": [
       "   Age  Gender  Impressions  Clicks  Signed_In      date age_group\n",
       "0   36  female            3       0          1  2012/5/1     35-44\n",
       "1   73    male            3       0          1  2012/5/1       65+\n",
       "2   30  female            3       0          1  2012/5/1     25-34\n",
       "3   49    male            3       0          1  2012/5/1     45-54\n",
       "4   47    male           11       0          1  2012/5/1     45-54"
      ]
     },
     "execution_count": 16,
     "metadata": {},
     "output_type": "execute_result"
    }
   ],
   "source": [
    "data1.head()"
   ]
  },
  {
   "cell_type": "code",
   "execution_count": 17,
   "metadata": {
    "ExecuteTime": {
     "end_time": "2019-03-01T06:47:42.527448Z",
     "start_time": "2019-03-01T06:47:42.402526Z"
    }
   },
   "outputs": [
    {
     "data": {
      "text/html": [
       "<div>\n",
       "<style scoped>\n",
       "    .dataframe tbody tr th:only-of-type {\n",
       "        vertical-align: middle;\n",
       "    }\n",
       "\n",
       "    .dataframe tbody tr th {\n",
       "        vertical-align: top;\n",
       "    }\n",
       "\n",
       "    .dataframe thead th {\n",
       "        text-align: right;\n",
       "    }\n",
       "</style>\n",
       "<table border=\"1\" class=\"dataframe\">\n",
       "  <thead>\n",
       "    <tr style=\"text-align: right;\">\n",
       "      <th></th>\n",
       "      <th>Age</th>\n",
       "      <th>Gender</th>\n",
       "      <th>Impressions</th>\n",
       "      <th>Clicks</th>\n",
       "      <th>Signed_In</th>\n",
       "      <th>date</th>\n",
       "      <th>age_group</th>\n",
       "    </tr>\n",
       "  </thead>\n",
       "  <tbody>\n",
       "    <tr>\n",
       "      <th>6</th>\n",
       "      <td>0</td>\n",
       "      <td>unknown</td>\n",
       "      <td>7</td>\n",
       "      <td>1</td>\n",
       "      <td>0</td>\n",
       "      <td>2012/5/1</td>\n",
       "      <td>unknown</td>\n",
       "    </tr>\n",
       "    <tr>\n",
       "      <th>10</th>\n",
       "      <td>0</td>\n",
       "      <td>unknown</td>\n",
       "      <td>8</td>\n",
       "      <td>1</td>\n",
       "      <td>0</td>\n",
       "      <td>2012/5/1</td>\n",
       "      <td>unknown</td>\n",
       "    </tr>\n",
       "    <tr>\n",
       "      <th>12</th>\n",
       "      <td>0</td>\n",
       "      <td>unknown</td>\n",
       "      <td>4</td>\n",
       "      <td>0</td>\n",
       "      <td>0</td>\n",
       "      <td>2012/5/1</td>\n",
       "      <td>unknown</td>\n",
       "    </tr>\n",
       "    <tr>\n",
       "      <th>15</th>\n",
       "      <td>0</td>\n",
       "      <td>unknown</td>\n",
       "      <td>6</td>\n",
       "      <td>0</td>\n",
       "      <td>0</td>\n",
       "      <td>2012/5/1</td>\n",
       "      <td>unknown</td>\n",
       "    </tr>\n",
       "    <tr>\n",
       "      <th>19</th>\n",
       "      <td>0</td>\n",
       "      <td>unknown</td>\n",
       "      <td>5</td>\n",
       "      <td>0</td>\n",
       "      <td>0</td>\n",
       "      <td>2012/5/1</td>\n",
       "      <td>unknown</td>\n",
       "    </tr>\n",
       "  </tbody>\n",
       "</table>\n",
       "</div>"
      ],
      "text/plain": [
       "    Age   Gender  Impressions  Clicks  Signed_In      date age_group\n",
       "6     0  unknown            7       1          0  2012/5/1   unknown\n",
       "10    0  unknown            8       1          0  2012/5/1   unknown\n",
       "12    0  unknown            4       0          0  2012/5/1   unknown\n",
       "15    0  unknown            6       0          0  2012/5/1   unknown\n",
       "19    0  unknown            5       0          0  2012/5/1   unknown"
      ]
     },
     "execution_count": 17,
     "metadata": {},
     "output_type": "execute_result"
    }
   ],
   "source": [
    "data1[data1.Age == 0].head()"
   ]
  },
  {
   "cell_type": "markdown",
   "metadata": {},
   "source": [
    "## Plotting distributions"
   ]
  },
  {
   "cell_type": "markdown",
   "metadata": {},
   "source": [
    "### Gender vs age group\n",
    "The next will plot the number of females and males in each age group."
   ]
  },
  {
   "cell_type": "code",
   "execution_count": 18,
   "metadata": {
    "ExecuteTime": {
     "end_time": "2019-03-01T06:47:43.155059Z",
     "start_time": "2019-03-01T06:47:42.530446Z"
    }
   },
   "outputs": [
    {
     "data": {
      "image/png": "[encoded data removed]",
      "text/plain": [
       "<Figure size 432x288 with 1 Axes>"
      ]
     },
     "metadata": {},
     "output_type": "display_data"
    }
   ],
   "source": [
    "sns.countplot(x='age_group', data=data1, hue='Gender')\n",
    "plt.title('People in each age group')\n",
    "plt.show()"
   ]
  },
  {
   "cell_type": "markdown",
   "metadata": {},
   "source": [
    "### Grouping by age and gender\n",
    "\n",
    "This is necessary to plot the rest of the distributions in different groups."
   ]
  },
  {
   "cell_type": "code",
   "execution_count": 19,
   "metadata": {
    "ExecuteTime": {
     "end_time": "2019-03-01T06:47:43.271991Z",
     "start_time": "2019-03-01T06:47:43.158057Z"
    },
    "scrolled": false
   },
   "outputs": [
    {
     "data": {
      "text/html": [
       "<div>\n",
       "<style scoped>\n",
       "    .dataframe tbody tr th:only-of-type {\n",
       "        vertical-align: middle;\n",
       "    }\n",
       "\n",
       "    .dataframe tbody tr th {\n",
       "        vertical-align: top;\n",
       "    }\n",
       "\n",
       "    .dataframe thead th {\n",
       "        text-align: right;\n",
       "    }\n",
       "</style>\n",
       "<table border=\"1\" class=\"dataframe\">\n",
       "  <thead>\n",
       "    <tr style=\"text-align: right;\">\n",
       "      <th></th>\n",
       "      <th>age_group</th>\n",
       "      <th>Gender</th>\n",
       "      <th>Impressions</th>\n",
       "      <th>Clicks</th>\n",
       "    </tr>\n",
       "  </thead>\n",
       "  <tbody>\n",
       "    <tr>\n",
       "      <th>2</th>\n",
       "      <td>unknown</td>\n",
       "      <td>unknown</td>\n",
       "      <td>685483.0</td>\n",
       "      <td>19480.0</td>\n",
       "    </tr>\n",
       "    <tr>\n",
       "      <th>3</th>\n",
       "      <td>&lt;18</td>\n",
       "      <td>female</td>\n",
       "      <td>21800.0</td>\n",
       "      <td>683.0</td>\n",
       "    </tr>\n",
       "    <tr>\n",
       "      <th>4</th>\n",
       "      <td>&lt;18</td>\n",
       "      <td>male</td>\n",
       "      <td>47439.0</td>\n",
       "      <td>1382.0</td>\n",
       "    </tr>\n",
       "    <tr>\n",
       "      <th>6</th>\n",
       "      <td>18-24</td>\n",
       "      <td>female</td>\n",
       "      <td>95057.0</td>\n",
       "      <td>1002.0</td>\n",
       "    </tr>\n",
       "    <tr>\n",
       "      <th>7</th>\n",
       "      <td>18-24</td>\n",
       "      <td>male</td>\n",
       "      <td>108528.0</td>\n",
       "      <td>1165.0</td>\n",
       "    </tr>\n",
       "    <tr>\n",
       "      <th>9</th>\n",
       "      <td>25-34</td>\n",
       "      <td>female</td>\n",
       "      <td>136292.0</td>\n",
       "      <td>1388.0</td>\n",
       "    </tr>\n",
       "    <tr>\n",
       "      <th>10</th>\n",
       "      <td>25-34</td>\n",
       "      <td>male</td>\n",
       "      <td>154219.0</td>\n",
       "      <td>1549.0</td>\n",
       "    </tr>\n",
       "    <tr>\n",
       "      <th>12</th>\n",
       "      <td>35-44</td>\n",
       "      <td>female</td>\n",
       "      <td>166324.0</td>\n",
       "      <td>1707.0</td>\n",
       "    </tr>\n",
       "    <tr>\n",
       "      <th>13</th>\n",
       "      <td>35-44</td>\n",
       "      <td>male</td>\n",
       "      <td>189500.0</td>\n",
       "      <td>1955.0</td>\n",
       "    </tr>\n",
       "    <tr>\n",
       "      <th>15</th>\n",
       "      <td>45-54</td>\n",
       "      <td>female</td>\n",
       "      <td>151650.0</td>\n",
       "      <td>1542.0</td>\n",
       "    </tr>\n",
       "    <tr>\n",
       "      <th>16</th>\n",
       "      <td>45-54</td>\n",
       "      <td>male</td>\n",
       "      <td>170459.0</td>\n",
       "      <td>1690.0</td>\n",
       "    </tr>\n",
       "    <tr>\n",
       "      <th>18</th>\n",
       "      <td>55-64</td>\n",
       "      <td>female</td>\n",
       "      <td>104220.0</td>\n",
       "      <td>2105.0</td>\n",
       "    </tr>\n",
       "    <tr>\n",
       "      <th>19</th>\n",
       "      <td>55-64</td>\n",
       "      <td>male</td>\n",
       "      <td>120468.0</td>\n",
       "      <td>2451.0</td>\n",
       "    </tr>\n",
       "    <tr>\n",
       "      <th>21</th>\n",
       "      <td>65+</td>\n",
       "      <td>female</td>\n",
       "      <td>91956.0</td>\n",
       "      <td>2765.0</td>\n",
       "    </tr>\n",
       "    <tr>\n",
       "      <th>22</th>\n",
       "      <td>65+</td>\n",
       "      <td>male</td>\n",
       "      <td>52164.0</td>\n",
       "      <td>1585.0</td>\n",
       "    </tr>\n",
       "  </tbody>\n",
       "</table>\n",
       "</div>"
      ],
      "text/plain": [
       "   age_group   Gender  Impressions   Clicks\n",
       "2    unknown  unknown     685483.0  19480.0\n",
       "3        <18   female      21800.0    683.0\n",
       "4        <18     male      47439.0   1382.0\n",
       "6      18-24   female      95057.0   1002.0\n",
       "7      18-24     male     108528.0   1165.0\n",
       "9      25-34   female     136292.0   1388.0\n",
       "10     25-34     male     154219.0   1549.0\n",
       "12     35-44   female     166324.0   1707.0\n",
       "13     35-44     male     189500.0   1955.0\n",
       "15     45-54   female     151650.0   1542.0\n",
       "16     45-54     male     170459.0   1690.0\n",
       "18     55-64   female     104220.0   2105.0\n",
       "19     55-64     male     120468.0   2451.0\n",
       "21       65+   female      91956.0   2765.0\n",
       "22       65+     male      52164.0   1585.0"
      ]
     },
     "execution_count": 19,
     "metadata": {},
     "output_type": "execute_result"
    }
   ],
   "source": [
    "grouped = data1.groupby(['age_group', 'Gender'], as_index=False)['Impressions', 'Clicks'].sum()\n",
    "grouped = grouped.dropna()\n",
    "grouped"
   ]
  },
  {
   "cell_type": "code",
   "execution_count": 20,
   "metadata": {
    "ExecuteTime": {
     "end_time": "2019-03-01T06:47:43.471864Z",
     "start_time": "2019-03-01T06:47:43.275985Z"
    },
    "scrolled": false
   },
   "outputs": [
    {
     "data": {
      "text/html": [
       "<div>\n",
       "<style scoped>\n",
       "    .dataframe tbody tr th:only-of-type {\n",
       "        vertical-align: middle;\n",
       "    }\n",
       "\n",
       "    .dataframe tbody tr th {\n",
       "        vertical-align: top;\n",
       "    }\n",
       "\n",
       "    .dataframe thead th {\n",
       "        text-align: right;\n",
       "    }\n",
       "</style>\n",
       "<table border=\"1\" class=\"dataframe\">\n",
       "  <thead>\n",
       "    <tr style=\"text-align: right;\">\n",
       "      <th></th>\n",
       "      <th>age_group</th>\n",
       "      <th>Gender</th>\n",
       "      <th>Impressions</th>\n",
       "      <th>Clicks</th>\n",
       "      <th>CTR</th>\n",
       "    </tr>\n",
       "  </thead>\n",
       "  <tbody>\n",
       "    <tr>\n",
       "      <th>2</th>\n",
       "      <td>unknown</td>\n",
       "      <td>unknown</td>\n",
       "      <td>685483.0</td>\n",
       "      <td>19480.0</td>\n",
       "      <td>2.841792</td>\n",
       "    </tr>\n",
       "    <tr>\n",
       "      <th>3</th>\n",
       "      <td>&lt;18</td>\n",
       "      <td>female</td>\n",
       "      <td>21800.0</td>\n",
       "      <td>683.0</td>\n",
       "      <td>3.133028</td>\n",
       "    </tr>\n",
       "    <tr>\n",
       "      <th>4</th>\n",
       "      <td>&lt;18</td>\n",
       "      <td>male</td>\n",
       "      <td>47439.0</td>\n",
       "      <td>1382.0</td>\n",
       "      <td>2.913215</td>\n",
       "    </tr>\n",
       "    <tr>\n",
       "      <th>6</th>\n",
       "      <td>18-24</td>\n",
       "      <td>female</td>\n",
       "      <td>95057.0</td>\n",
       "      <td>1002.0</td>\n",
       "      <td>1.054104</td>\n",
       "    </tr>\n",
       "    <tr>\n",
       "      <th>7</th>\n",
       "      <td>18-24</td>\n",
       "      <td>male</td>\n",
       "      <td>108528.0</td>\n",
       "      <td>1165.0</td>\n",
       "      <td>1.073456</td>\n",
       "    </tr>\n",
       "    <tr>\n",
       "      <th>9</th>\n",
       "      <td>25-34</td>\n",
       "      <td>female</td>\n",
       "      <td>136292.0</td>\n",
       "      <td>1388.0</td>\n",
       "      <td>1.018402</td>\n",
       "    </tr>\n",
       "    <tr>\n",
       "      <th>10</th>\n",
       "      <td>25-34</td>\n",
       "      <td>male</td>\n",
       "      <td>154219.0</td>\n",
       "      <td>1549.0</td>\n",
       "      <td>1.004416</td>\n",
       "    </tr>\n",
       "    <tr>\n",
       "      <th>12</th>\n",
       "      <td>35-44</td>\n",
       "      <td>female</td>\n",
       "      <td>166324.0</td>\n",
       "      <td>1707.0</td>\n",
       "      <td>1.026310</td>\n",
       "    </tr>\n",
       "    <tr>\n",
       "      <th>13</th>\n",
       "      <td>35-44</td>\n",
       "      <td>male</td>\n",
       "      <td>189500.0</td>\n",
       "      <td>1955.0</td>\n",
       "      <td>1.031662</td>\n",
       "    </tr>\n",
       "    <tr>\n",
       "      <th>15</th>\n",
       "      <td>45-54</td>\n",
       "      <td>female</td>\n",
       "      <td>151650.0</td>\n",
       "      <td>1542.0</td>\n",
       "      <td>1.016815</td>\n",
       "    </tr>\n",
       "    <tr>\n",
       "      <th>16</th>\n",
       "      <td>45-54</td>\n",
       "      <td>male</td>\n",
       "      <td>170459.0</td>\n",
       "      <td>1690.0</td>\n",
       "      <td>0.991441</td>\n",
       "    </tr>\n",
       "    <tr>\n",
       "      <th>18</th>\n",
       "      <td>55-64</td>\n",
       "      <td>female</td>\n",
       "      <td>104220.0</td>\n",
       "      <td>2105.0</td>\n",
       "      <td>2.019766</td>\n",
       "    </tr>\n",
       "    <tr>\n",
       "      <th>19</th>\n",
       "      <td>55-64</td>\n",
       "      <td>male</td>\n",
       "      <td>120468.0</td>\n",
       "      <td>2451.0</td>\n",
       "      <td>2.034565</td>\n",
       "    </tr>\n",
       "    <tr>\n",
       "      <th>21</th>\n",
       "      <td>65+</td>\n",
       "      <td>female</td>\n",
       "      <td>91956.0</td>\n",
       "      <td>2765.0</td>\n",
       "      <td>3.006873</td>\n",
       "    </tr>\n",
       "    <tr>\n",
       "      <th>22</th>\n",
       "      <td>65+</td>\n",
       "      <td>male</td>\n",
       "      <td>52164.0</td>\n",
       "      <td>1585.0</td>\n",
       "      <td>3.038494</td>\n",
       "    </tr>\n",
       "  </tbody>\n",
       "</table>\n",
       "</div>"
      ],
      "text/plain": [
       "   age_group   Gender  Impressions   Clicks       CTR\n",
       "2    unknown  unknown     685483.0  19480.0  2.841792\n",
       "3        <18   female      21800.0    683.0  3.133028\n",
       "4        <18     male      47439.0   1382.0  2.913215\n",
       "6      18-24   female      95057.0   1002.0  1.054104\n",
       "7      18-24     male     108528.0   1165.0  1.073456\n",
       "9      25-34   female     136292.0   1388.0  1.018402\n",
       "10     25-34     male     154219.0   1549.0  1.004416\n",
       "12     35-44   female     166324.0   1707.0  1.026310\n",
       "13     35-44     male     189500.0   1955.0  1.031662\n",
       "15     45-54   female     151650.0   1542.0  1.016815\n",
       "16     45-54     male     170459.0   1690.0  0.991441\n",
       "18     55-64   female     104220.0   2105.0  2.019766\n",
       "19     55-64     male     120468.0   2451.0  2.034565\n",
       "21       65+   female      91956.0   2765.0  3.006873\n",
       "22       65+     male      52164.0   1585.0  3.038494"
      ]
     },
     "execution_count": 20,
     "metadata": {},
     "output_type": "execute_result"
    }
   ],
   "source": [
    "grouped['CTR'] = (grouped.Clicks / grouped.Impressions) * 100\n",
    "grouped"
   ]
  },
  {
   "cell_type": "markdown",
   "metadata": {},
   "source": [
    "### Impressions vs age group"
   ]
  },
  {
   "cell_type": "code",
   "execution_count": 21,
   "metadata": {
    "ExecuteTime": {
     "end_time": "2019-03-01T06:47:43.943571Z",
     "start_time": "2019-03-01T06:47:43.474862Z"
    },
    "scrolled": false
   },
   "outputs": [
    {
     "data": {
      "image/png": "[encoded data removed]",
      "text/plain": [
       "<Figure size 432x288 with 1 Axes>"
      ]
     },
     "metadata": {},
     "output_type": "display_data"
    }
   ],
   "source": [
    "sns.barplot(x='age_group', y='Impressions', data=grouped, hue='Gender')\n",
    "plt.title('Impressions vs age group')\n",
    "plt.show()"
   ]
  },
  {
   "cell_type": "markdown",
   "metadata": {},
   "source": [
    "### Impressions vs gender"
   ]
  },
  {
   "cell_type": "code",
   "execution_count": 22,
   "metadata": {
    "ExecuteTime": {
     "end_time": "2019-03-01T06:47:44.529210Z",
     "start_time": "2019-03-01T06:47:43.946570Z"
    }
   },
   "outputs": [
    {
     "data": {
      "image/png": "[encoded data removed]",
      "text/plain": [
       "<Figure size 441.375x360 with 1 Axes>"
      ]
     },
     "metadata": {},
     "output_type": "display_data"
    }
   ],
   "source": [
    "sns.catplot(x='Gender', y='Impressions', kind=\"bar\", data=grouped, hue='age_group')\n",
    "plt.title('Impressions vs gender')\n",
    "plt.show()"
   ]
  },
  {
   "cell_type": "markdown",
   "metadata": {},
   "source": [
    "### CTR vs age group"
   ]
  },
  {
   "cell_type": "code",
   "execution_count": 23,
   "metadata": {
    "ExecuteTime": {
     "end_time": "2019-03-01T06:47:45.064877Z",
     "start_time": "2019-03-01T06:47:44.532207Z"
    },
    "scrolled": false
   },
   "outputs": [
    {
     "data": {
      "image/png": "[encoded data removed]",
      "text/plain": [
       "<Figure size 441.375x360 with 1 Axes>"
      ]
     },
     "metadata": {},
     "output_type": "display_data"
    }
   ],
   "source": [
    "sns.catplot(x='age_group', y='CTR', kind=\"bar\", data=grouped, hue='Gender')\n",
    "plt.title('CTR vs age group')\n",
    "plt.show()"
   ]
  },
  {
   "cell_type": "markdown",
   "metadata": {},
   "source": [
    "### CTR vs gender"
   ]
  },
  {
   "cell_type": "code",
   "execution_count": 24,
   "metadata": {
    "ExecuteTime": {
     "end_time": "2019-03-01T06:47:45.676497Z",
     "start_time": "2019-03-01T06:47:45.068875Z"
    },
    "scrolled": false
   },
   "outputs": [
    {
     "data": {
      "image/png": "[encoded data removed]",
      "text/plain": [
       "<Figure size 441.375x360 with 1 Axes>"
      ]
     },
     "metadata": {},
     "output_type": "display_data"
    }
   ],
   "source": [
    "sns.catplot(x='Gender', y='CTR', kind=\"bar\", data=grouped, hue='age_group')\n",
    "plt.title('CTR vs gender')\n",
    "plt.show()"
   ]
  },
  {
   "cell_type": "markdown",
   "metadata": {},
   "source": [
    "### Clicks vs age group"
   ]
  },
  {
   "cell_type": "code",
   "execution_count": 25,
   "metadata": {
    "ExecuteTime": {
     "end_time": "2019-03-01T06:47:46.326096Z",
     "start_time": "2019-03-01T06:47:45.680495Z"
    }
   },
   "outputs": [
    {
     "data": {
      "image/png": "[encoded data removed]",
      "text/plain": [
       "<Figure size 441.375x360 with 1 Axes>"
      ]
     },
     "metadata": {},
     "output_type": "display_data"
    }
   ],
   "source": [
    "sns.catplot(x='age_group', y='Clicks', kind=\"bar\", data=grouped, hue='Gender')\n",
    "plt.title('Clicks vs age group')\n",
    "plt.show()"
   ]
  },
  {
   "cell_type": "markdown",
   "metadata": {},
   "source": [
    "### Clicks vs gender"
   ]
  },
  {
   "cell_type": "code",
   "execution_count": 26,
   "metadata": {
    "ExecuteTime": {
     "end_time": "2019-03-01T06:47:46.932719Z",
     "start_time": "2019-03-01T06:47:46.330094Z"
    }
   },
   "outputs": [
    {
     "data": {
      "image/png": "[encoded data removed]",
      "text/plain": [
       "<Figure size 441.375x360 with 1 Axes>"
      ]
     },
     "metadata": {},
     "output_type": "display_data"
    }
   ],
   "source": [
    "sns.catplot(x='Gender', y='Clicks', kind=\"bar\", data=grouped, hue='age_group')\n",
    "plt.title('Clicks vs gender')\n",
    "plt.show()"
   ]
  },
  {
   "cell_type": "markdown",
   "metadata": {},
   "source": [
    "## Categorizing by log-in\n",
    "The information whether people logged-in or didn't is contained in the `Signed_In` column. There, `0` means not logged in and `1` means logged in."
   ]
  },
  {
   "cell_type": "code",
   "execution_count": 27,
   "metadata": {
    "ExecuteTime": {
     "end_time": "2019-03-01T06:47:46.967697Z",
     "start_time": "2019-03-01T06:47:46.937716Z"
    },
    "scrolled": true
   },
   "outputs": [
    {
     "data": {
      "text/plain": [
       "1    319198\n",
       "0    136177\n",
       "Name: Signed_In, dtype: int64"
      ]
     },
     "execution_count": 27,
     "metadata": {},
     "output_type": "execute_result"
    }
   ],
   "source": [
    "data1.Signed_In.value_counts()"
   ]
  },
  {
   "cell_type": "markdown",
   "metadata": {},
   "source": [
    "### Plot count of logged-in and not logged-in"
   ]
  },
  {
   "cell_type": "code",
   "execution_count": 28,
   "metadata": {
    "ExecuteTime": {
     "end_time": "2019-03-01T06:47:47.526352Z",
     "start_time": "2019-03-01T06:47:46.976692Z"
    }
   },
   "outputs": [
    {
     "data": {
      "image/png": "[encoded data removed]",
      "text/plain": [
       "<Figure size 360x360 with 1 Axes>"
      ]
     },
     "metadata": {},
     "output_type": "display_data"
    }
   ],
   "source": [
    "sns.catplot(x='Signed_In', kind='count', data=data1)\n",
    "plt.title('Signed-in counts')\n",
    "plt.show()"
   ]
  },
  {
   "cell_type": "markdown",
   "metadata": {},
   "source": [
    "The last plot shows that almost twice people logged in."
   ]
  },
  {
   "cell_type": "markdown",
   "metadata": {},
   "source": [
    "### Plot gender counts and not logged in"
   ]
  },
  {
   "cell_type": "code",
   "execution_count": 29,
   "metadata": {
    "ExecuteTime": {
     "end_time": "2019-03-01T06:47:48.236911Z",
     "start_time": "2019-03-01T06:47:47.529350Z"
    }
   },
   "outputs": [
    {
     "data": {
      "image/png": "[encoded data removed]",
      "text/plain": [
       "<Figure size 441.375x360 with 1 Axes>"
      ]
     },
     "metadata": {},
     "output_type": "display_data"
    }
   ],
   "source": [
    "sns.catplot(x='Signed_In', kind='count', data=data1, hue='Gender')\n",
    "plt.title('Gender counts')\n",
    "plt.show()"
   ]
  },
  {
   "cell_type": "markdown",
   "metadata": {},
   "source": [
    "### Analyzing not logged-in data"
   ]
  },
  {
   "cell_type": "markdown",
   "metadata": {},
   "source": [
    "Let's subset the group of people that did not log in."
   ]
  },
  {
   "cell_type": "code",
   "execution_count": 30,
   "metadata": {
    "ExecuteTime": {
     "end_time": "2019-03-01T06:47:48.258900Z",
     "start_time": "2019-03-01T06:47:48.240910Z"
    }
   },
   "outputs": [],
   "source": [
    "unsigned = data1[data1.Signed_In == 0]"
   ]
  },
  {
   "cell_type": "code",
   "execution_count": 31,
   "metadata": {
    "ExecuteTime": {
     "end_time": "2019-03-01T06:47:48.509741Z",
     "start_time": "2019-03-01T06:47:48.261896Z"
    }
   },
   "outputs": [
    {
     "data": {
      "text/html": [
       "<div>\n",
       "<style scoped>\n",
       "    .dataframe tbody tr th:only-of-type {\n",
       "        vertical-align: middle;\n",
       "    }\n",
       "\n",
       "    .dataframe tbody tr th {\n",
       "        vertical-align: top;\n",
       "    }\n",
       "\n",
       "    .dataframe thead th {\n",
       "        text-align: right;\n",
       "    }\n",
       "</style>\n",
       "<table border=\"1\" class=\"dataframe\">\n",
       "  <thead>\n",
       "    <tr style=\"text-align: right;\">\n",
       "      <th></th>\n",
       "      <th>Age</th>\n",
       "      <th>Impressions</th>\n",
       "      <th>Clicks</th>\n",
       "      <th>Signed_In</th>\n",
       "    </tr>\n",
       "  </thead>\n",
       "  <tbody>\n",
       "    <tr>\n",
       "      <th>count</th>\n",
       "      <td>136177.0</td>\n",
       "      <td>136177.000000</td>\n",
       "      <td>136177.000000</td>\n",
       "      <td>136177.0</td>\n",
       "    </tr>\n",
       "    <tr>\n",
       "      <th>mean</th>\n",
       "      <td>0.0</td>\n",
       "      <td>5.033765</td>\n",
       "      <td>0.143049</td>\n",
       "      <td>0.0</td>\n",
       "    </tr>\n",
       "    <tr>\n",
       "      <th>std</th>\n",
       "      <td>0.0</td>\n",
       "      <td>2.209780</td>\n",
       "      <td>0.386644</td>\n",
       "      <td>0.0</td>\n",
       "    </tr>\n",
       "    <tr>\n",
       "      <th>min</th>\n",
       "      <td>0.0</td>\n",
       "      <td>1.000000</td>\n",
       "      <td>0.000000</td>\n",
       "      <td>0.0</td>\n",
       "    </tr>\n",
       "    <tr>\n",
       "      <th>25%</th>\n",
       "      <td>0.0</td>\n",
       "      <td>3.000000</td>\n",
       "      <td>0.000000</td>\n",
       "      <td>0.0</td>\n",
       "    </tr>\n",
       "    <tr>\n",
       "      <th>50%</th>\n",
       "      <td>0.0</td>\n",
       "      <td>5.000000</td>\n",
       "      <td>0.000000</td>\n",
       "      <td>0.0</td>\n",
       "    </tr>\n",
       "    <tr>\n",
       "      <th>75%</th>\n",
       "      <td>0.0</td>\n",
       "      <td>6.000000</td>\n",
       "      <td>0.000000</td>\n",
       "      <td>0.0</td>\n",
       "    </tr>\n",
       "    <tr>\n",
       "      <th>max</th>\n",
       "      <td>0.0</td>\n",
       "      <td>18.000000</td>\n",
       "      <td>4.000000</td>\n",
       "      <td>0.0</td>\n",
       "    </tr>\n",
       "  </tbody>\n",
       "</table>\n",
       "</div>"
      ],
      "text/plain": [
       "            Age    Impressions         Clicks  Signed_In\n",
       "count  136177.0  136177.000000  136177.000000   136177.0\n",
       "mean        0.0       5.033765       0.143049        0.0\n",
       "std         0.0       2.209780       0.386644        0.0\n",
       "min         0.0       1.000000       0.000000        0.0\n",
       "25%         0.0       3.000000       0.000000        0.0\n",
       "50%         0.0       5.000000       0.000000        0.0\n",
       "75%         0.0       6.000000       0.000000        0.0\n",
       "max         0.0      18.000000       4.000000        0.0"
      ]
     },
     "execution_count": 31,
     "metadata": {},
     "output_type": "execute_result"
    }
   ],
   "source": [
    "unsigned.describe()"
   ]
  },
  {
   "cell_type": "code",
   "execution_count": 32,
   "metadata": {
    "ExecuteTime": {
     "end_time": "2019-03-01T06:47:48.563709Z",
     "start_time": "2019-03-01T06:47:48.512741Z"
    }
   },
   "outputs": [
    {
     "name": "stdout",
     "output_type": "stream",
     "text": [
      "<class 'pandas.core.frame.DataFrame'>\n",
      "Int64Index: 136177 entries, 6 to 458440\n",
      "Data columns (total 7 columns):\n",
      "Age            136177 non-null int64\n",
      "Gender         136177 non-null category\n",
      "Impressions    136177 non-null int64\n",
      "Clicks         136177 non-null int64\n",
      "Signed_In      136177 non-null int64\n",
      "date           136177 non-null object\n",
      "age_group      136177 non-null category\n",
      "dtypes: category(2), int64(4), object(1)\n",
      "memory usage: 6.5+ MB\n"
     ]
    }
   ],
   "source": [
    "unsigned.info()"
   ]
  },
  {
   "cell_type": "code",
   "execution_count": 33,
   "metadata": {
    "ExecuteTime": {
     "end_time": "2019-03-01T06:47:48.670643Z",
     "start_time": "2019-03-01T06:47:48.565707Z"
    }
   },
   "outputs": [
    {
     "data": {
      "text/html": [
       "<div>\n",
       "<style scoped>\n",
       "    .dataframe tbody tr th:only-of-type {\n",
       "        vertical-align: middle;\n",
       "    }\n",
       "\n",
       "    .dataframe tbody tr th {\n",
       "        vertical-align: top;\n",
       "    }\n",
       "\n",
       "    .dataframe thead th {\n",
       "        text-align: right;\n",
       "    }\n",
       "</style>\n",
       "<table border=\"1\" class=\"dataframe\">\n",
       "  <thead>\n",
       "    <tr style=\"text-align: right;\">\n",
       "      <th></th>\n",
       "      <th>Age</th>\n",
       "      <th>Gender</th>\n",
       "      <th>Impressions</th>\n",
       "      <th>Clicks</th>\n",
       "      <th>Signed_In</th>\n",
       "      <th>date</th>\n",
       "      <th>age_group</th>\n",
       "    </tr>\n",
       "  </thead>\n",
       "  <tbody>\n",
       "    <tr>\n",
       "      <th>6</th>\n",
       "      <td>0</td>\n",
       "      <td>unknown</td>\n",
       "      <td>7</td>\n",
       "      <td>1</td>\n",
       "      <td>0</td>\n",
       "      <td>2012/5/1</td>\n",
       "      <td>unknown</td>\n",
       "    </tr>\n",
       "    <tr>\n",
       "      <th>10</th>\n",
       "      <td>0</td>\n",
       "      <td>unknown</td>\n",
       "      <td>8</td>\n",
       "      <td>1</td>\n",
       "      <td>0</td>\n",
       "      <td>2012/5/1</td>\n",
       "      <td>unknown</td>\n",
       "    </tr>\n",
       "    <tr>\n",
       "      <th>12</th>\n",
       "      <td>0</td>\n",
       "      <td>unknown</td>\n",
       "      <td>4</td>\n",
       "      <td>0</td>\n",
       "      <td>0</td>\n",
       "      <td>2012/5/1</td>\n",
       "      <td>unknown</td>\n",
       "    </tr>\n",
       "    <tr>\n",
       "      <th>15</th>\n",
       "      <td>0</td>\n",
       "      <td>unknown</td>\n",
       "      <td>6</td>\n",
       "      <td>0</td>\n",
       "      <td>0</td>\n",
       "      <td>2012/5/1</td>\n",
       "      <td>unknown</td>\n",
       "    </tr>\n",
       "    <tr>\n",
       "      <th>19</th>\n",
       "      <td>0</td>\n",
       "      <td>unknown</td>\n",
       "      <td>5</td>\n",
       "      <td>0</td>\n",
       "      <td>0</td>\n",
       "      <td>2012/5/1</td>\n",
       "      <td>unknown</td>\n",
       "    </tr>\n",
       "  </tbody>\n",
       "</table>\n",
       "</div>"
      ],
      "text/plain": [
       "    Age   Gender  Impressions  Clicks  Signed_In      date age_group\n",
       "6     0  unknown            7       1          0  2012/5/1   unknown\n",
       "10    0  unknown            8       1          0  2012/5/1   unknown\n",
       "12    0  unknown            4       0          0  2012/5/1   unknown\n",
       "15    0  unknown            6       0          0  2012/5/1   unknown\n",
       "19    0  unknown            5       0          0  2012/5/1   unknown"
      ]
     },
     "execution_count": 33,
     "metadata": {},
     "output_type": "execute_result"
    }
   ],
   "source": [
    "unsigned.head()"
   ]
  },
  {
   "cell_type": "code",
   "execution_count": 34,
   "metadata": {
    "ExecuteTime": {
     "end_time": "2019-03-01T06:47:48.809557Z",
     "start_time": "2019-03-01T06:47:48.675642Z"
    }
   },
   "outputs": [
    {
     "data": {
      "text/plain": [
       "5     23935\n",
       "4     23871\n",
       "6     19994\n",
       "3     19347\n",
       "7     14428\n",
       "2     11591\n",
       "8      8912\n",
       "9      5084\n",
       "1      4676\n",
       "10     2494\n",
       "11     1109\n",
       "12      448\n",
       "13      193\n",
       "14       61\n",
       "15       19\n",
       "16        7\n",
       "17        6\n",
       "18        2\n",
       "Name: Impressions, dtype: int64"
      ]
     },
     "execution_count": 34,
     "metadata": {},
     "output_type": "execute_result"
    }
   ],
   "source": [
    "unsigned.Impressions.value_counts()"
   ]
  },
  {
   "cell_type": "code",
   "execution_count": 35,
   "metadata": {
    "ExecuteTime": {
     "end_time": "2019-03-01T06:47:48.931482Z",
     "start_time": "2019-03-01T06:47:48.812557Z"
    }
   },
   "outputs": [
    {
     "data": {
      "text/plain": [
       "0    118401\n",
       "1     16191\n",
       "2      1475\n",
       "3       101\n",
       "4         9\n",
       "Name: Clicks, dtype: int64"
      ]
     },
     "execution_count": 35,
     "metadata": {},
     "output_type": "execute_result"
    }
   ],
   "source": [
    "unsigned.Clicks.value_counts()"
   ]
  },
  {
   "cell_type": "code",
   "execution_count": 36,
   "metadata": {
    "ExecuteTime": {
     "end_time": "2019-03-01T06:47:51.177737Z",
     "start_time": "2019-03-01T06:47:48.935481Z"
    }
   },
   "outputs": [
    {
     "data": {
      "image/png": "[encoded data removed]",
      "text/plain": [
       "<Figure size 360x360 with 1 Axes>"
      ]
     },
     "metadata": {},
     "output_type": "display_data"
    }
   ],
   "source": [
    "sns.catplot(x='Clicks', y='Impressions', kind='violin', data=unsigned, inner=\"quartile\", palette=\"ch:.25\")\n",
    "plt.title('Clicks vs Impressions')\n",
    "plt.show()"
   ]
  },
  {
   "cell_type": "code",
   "execution_count": 37,
   "metadata": {
    "ExecuteTime": {
     "end_time": "2019-03-01T06:47:51.203720Z",
     "start_time": "2019-03-01T06:47:51.180735Z"
    }
   },
   "outputs": [
    {
     "data": {
      "text/html": [
       "<div>\n",
       "<style scoped>\n",
       "    .dataframe tbody tr th:only-of-type {\n",
       "        vertical-align: middle;\n",
       "    }\n",
       "\n",
       "    .dataframe tbody tr th {\n",
       "        vertical-align: top;\n",
       "    }\n",
       "\n",
       "    .dataframe thead th {\n",
       "        text-align: right;\n",
       "    }\n",
       "</style>\n",
       "<table border=\"1\" class=\"dataframe\">\n",
       "  <thead>\n",
       "    <tr style=\"text-align: right;\">\n",
       "      <th></th>\n",
       "      <th>Clicks</th>\n",
       "      <th>Impressions</th>\n",
       "    </tr>\n",
       "  </thead>\n",
       "  <tbody>\n",
       "    <tr>\n",
       "      <th>0</th>\n",
       "      <td>0</td>\n",
       "      <td>580205</td>\n",
       "    </tr>\n",
       "    <tr>\n",
       "      <th>1</th>\n",
       "      <td>1</td>\n",
       "      <td>94477</td>\n",
       "    </tr>\n",
       "    <tr>\n",
       "      <th>2</th>\n",
       "      <td>2</td>\n",
       "      <td>9966</td>\n",
       "    </tr>\n",
       "    <tr>\n",
       "      <th>3</th>\n",
       "      <td>3</td>\n",
       "      <td>764</td>\n",
       "    </tr>\n",
       "    <tr>\n",
       "      <th>4</th>\n",
       "      <td>4</td>\n",
       "      <td>71</td>\n",
       "    </tr>\n",
       "  </tbody>\n",
       "</table>\n",
       "</div>"
      ],
      "text/plain": [
       "   Clicks  Impressions\n",
       "0       0       580205\n",
       "1       1        94477\n",
       "2       2         9966\n",
       "3       3          764\n",
       "4       4           71"
      ]
     },
     "execution_count": 37,
     "metadata": {},
     "output_type": "execute_result"
    }
   ],
   "source": [
    "unsigned_grouped = unsigned.groupby('Clicks', as_index=False)['Impressions'].sum()\n",
    "unsigned_grouped"
   ]
  },
  {
   "cell_type": "code",
   "execution_count": 38,
   "metadata": {
    "ExecuteTime": {
     "end_time": "2019-03-01T06:47:51.263684Z",
     "start_time": "2019-03-01T06:47:51.206720Z"
    },
    "scrolled": true
   },
   "outputs": [
    {
     "data": {
      "text/html": [
       "<div>\n",
       "<style scoped>\n",
       "    .dataframe tbody tr th:only-of-type {\n",
       "        vertical-align: middle;\n",
       "    }\n",
       "\n",
       "    .dataframe tbody tr th {\n",
       "        vertical-align: top;\n",
       "    }\n",
       "\n",
       "    .dataframe thead th {\n",
       "        text-align: right;\n",
       "    }\n",
       "</style>\n",
       "<table border=\"1\" class=\"dataframe\">\n",
       "  <thead>\n",
       "    <tr style=\"text-align: right;\">\n",
       "      <th></th>\n",
       "      <th>Clicks</th>\n",
       "      <th>Impressions</th>\n",
       "      <th>CTR</th>\n",
       "    </tr>\n",
       "  </thead>\n",
       "  <tbody>\n",
       "    <tr>\n",
       "      <th>0</th>\n",
       "      <td>0</td>\n",
       "      <td>580205</td>\n",
       "      <td>0.000000</td>\n",
       "    </tr>\n",
       "    <tr>\n",
       "      <th>1</th>\n",
       "      <td>1</td>\n",
       "      <td>94477</td>\n",
       "      <td>0.001058</td>\n",
       "    </tr>\n",
       "    <tr>\n",
       "      <th>2</th>\n",
       "      <td>2</td>\n",
       "      <td>9966</td>\n",
       "      <td>0.020068</td>\n",
       "    </tr>\n",
       "    <tr>\n",
       "      <th>3</th>\n",
       "      <td>3</td>\n",
       "      <td>764</td>\n",
       "      <td>0.392670</td>\n",
       "    </tr>\n",
       "    <tr>\n",
       "      <th>4</th>\n",
       "      <td>4</td>\n",
       "      <td>71</td>\n",
       "      <td>5.633803</td>\n",
       "    </tr>\n",
       "  </tbody>\n",
       "</table>\n",
       "</div>"
      ],
      "text/plain": [
       "   Clicks  Impressions       CTR\n",
       "0       0       580205  0.000000\n",
       "1       1        94477  0.001058\n",
       "2       2         9966  0.020068\n",
       "3       3          764  0.392670\n",
       "4       4           71  5.633803"
      ]
     },
     "execution_count": 38,
     "metadata": {},
     "output_type": "execute_result"
    }
   ],
   "source": [
    "unsigned_grouped['CTR'] = (unsigned_grouped.Clicks / unsigned_grouped.Impressions) * 100\n",
    "unsigned_grouped"
   ]
  },
  {
   "cell_type": "code",
   "execution_count": 39,
   "metadata": {
    "ExecuteTime": {
     "end_time": "2019-03-01T06:47:51.654487Z",
     "start_time": "2019-03-01T06:47:51.265683Z"
    }
   },
   "outputs": [
    {
     "data": {
      "image/png": "[encoded data removed]",
      "text/plain": [
       "<Figure size 360x360 with 1 Axes>"
      ]
     },
     "metadata": {},
     "output_type": "display_data"
    }
   ],
   "source": [
    "sns.catplot('Clicks', 'CTR', data=unsigned_grouped)\n",
    "plt.title('CTR vs clicks in non-registered people')\n",
    "plt.show()"
   ]
  },
  {
   "cell_type": "markdown",
   "metadata": {},
   "source": [
    "### Plot Clicks vs No-clicks"
   ]
  },
  {
   "cell_type": "code",
   "execution_count": 40,
   "metadata": {
    "ExecuteTime": {
     "end_time": "2019-03-01T06:47:51.665482Z",
     "start_time": "2019-03-01T06:47:51.658485Z"
    }
   },
   "outputs": [],
   "source": [
    "data1['Clicked'] = data1.Clicks > 0"
   ]
  },
  {
   "cell_type": "code",
   "execution_count": 41,
   "metadata": {
    "ExecuteTime": {
     "end_time": "2019-03-01T06:47:52.672856Z",
     "start_time": "2019-03-01T06:47:51.668480Z"
    }
   },
   "outputs": [
    {
     "data": {
      "image/png": "[encoded data removed]",
      "text/plain": [
       "<Figure size 441.375x360 with 1 Axes>"
      ]
     },
     "metadata": {},
     "output_type": "display_data"
    }
   ],
   "source": [
    "sns.catplot('Clicked', data=data1, hue='age_group', kind='count')\n",
    "plt.show()"
   ]
  },
  {
   "cell_type": "code",
   "execution_count": 42,
   "metadata": {
    "ExecuteTime": {
     "end_time": "2019-03-01T06:47:53.456369Z",
     "start_time": "2019-03-01T06:47:52.675854Z"
    }
   },
   "outputs": [
    {
     "data": {
      "image/png": "[encoded data removed]",
      "text/plain": [
       "<Figure size 441.375x360 with 1 Axes>"
      ]
     },
     "metadata": {},
     "output_type": "display_data"
    }
   ],
   "source": [
    "sns.catplot('Clicked', data=data1, hue='Gender', kind='count')\n",
    "plt.show()"
   ]
  },
  {
   "cell_type": "markdown",
   "metadata": {},
   "source": [
    "## Merging all days into a single data frame\n",
    "\n",
    "Here, the purpose is to get all the data from 1 May 2012 to 31 May 2012.\n",
    "The order should be as fallows:\n",
    "1. Get one `.csv` file.\n",
    "2. Add a column with the `date` it was recorded.\n",
    "3. Repeat these steps in a loop for the 31 `.csv` files.\n",
    "4. Merge the 31 `.csv` files into a single `DataFrame`."
   ]
  },
  {
   "cell_type": "code",
   "execution_count": 43,
   "metadata": {
    "ExecuteTime": {
     "end_time": "2019-03-01T06:47:53.464366Z",
     "start_time": "2019-03-01T06:47:53.459369Z"
    }
   },
   "outputs": [],
   "source": [
    "url_name = 'http://stat.columbia.edu/~rachel/datasets/nyt{}.csv'"
   ]
  },
  {
   "cell_type": "code",
   "execution_count": 44,
   "metadata": {
    "ExecuteTime": {
     "end_time": "2019-03-01T06:47:53.638284Z",
     "start_time": "2019-03-01T06:47:53.467364Z"
    }
   },
   "outputs": [],
   "source": [
    "def monthly_reader(url, start, end):\n",
    "    '''Reads csv files from a given url for every number from start to end\n",
    "    and returns a data frame'''\n",
    "    dfs_list = []\n",
    "    for i in range(start, end+1):\n",
    "        dfi = pd.read_csv(url.format(i))\n",
    "        dfi['date'] = '2012/5/{}'.format(i)\n",
    "        dfs_list.append(dfi)\n",
    "    return pd.concat(dfs_list, ignore_index=True)"
   ]
  },
  {
   "cell_type": "code",
   "execution_count": 45,
   "metadata": {
    "ExecuteTime": {
     "end_time": "2019-03-01T06:52:50.902349Z",
     "start_time": "2019-03-01T06:47:53.641281Z"
    }
   },
   "outputs": [],
   "source": [
    "df = monthly_reader(url_name, 1, 31)"
   ]
  },
  {
   "cell_type": "code",
   "execution_count": 46,
   "metadata": {
    "ExecuteTime": {
     "end_time": "2019-03-01T06:52:50.923337Z",
     "start_time": "2019-03-01T06:52:50.905348Z"
    },
    "scrolled": true
   },
   "outputs": [
    {
     "data": {
      "text/html": [
       "<div>\n",
       "<style scoped>\n",
       "    .dataframe tbody tr th:only-of-type {\n",
       "        vertical-align: middle;\n",
       "    }\n",
       "\n",
       "    .dataframe tbody tr th {\n",
       "        vertical-align: top;\n",
       "    }\n",
       "\n",
       "    .dataframe thead th {\n",
       "        text-align: right;\n",
       "    }\n",
       "</style>\n",
       "<table border=\"1\" class=\"dataframe\">\n",
       "  <thead>\n",
       "    <tr style=\"text-align: right;\">\n",
       "      <th></th>\n",
       "      <th>Age</th>\n",
       "      <th>Gender</th>\n",
       "      <th>Impressions</th>\n",
       "      <th>Clicks</th>\n",
       "      <th>Signed_In</th>\n",
       "      <th>date</th>\n",
       "    </tr>\n",
       "  </thead>\n",
       "  <tbody>\n",
       "    <tr>\n",
       "      <th>0</th>\n",
       "      <td>36</td>\n",
       "      <td>0</td>\n",
       "      <td>3</td>\n",
       "      <td>0</td>\n",
       "      <td>1</td>\n",
       "      <td>2012/5/1</td>\n",
       "    </tr>\n",
       "    <tr>\n",
       "      <th>1</th>\n",
       "      <td>73</td>\n",
       "      <td>1</td>\n",
       "      <td>3</td>\n",
       "      <td>0</td>\n",
       "      <td>1</td>\n",
       "      <td>2012/5/1</td>\n",
       "    </tr>\n",
       "    <tr>\n",
       "      <th>2</th>\n",
       "      <td>30</td>\n",
       "      <td>0</td>\n",
       "      <td>3</td>\n",
       "      <td>0</td>\n",
       "      <td>1</td>\n",
       "      <td>2012/5/1</td>\n",
       "    </tr>\n",
       "    <tr>\n",
       "      <th>3</th>\n",
       "      <td>49</td>\n",
       "      <td>1</td>\n",
       "      <td>3</td>\n",
       "      <td>0</td>\n",
       "      <td>1</td>\n",
       "      <td>2012/5/1</td>\n",
       "    </tr>\n",
       "    <tr>\n",
       "      <th>4</th>\n",
       "      <td>47</td>\n",
       "      <td>1</td>\n",
       "      <td>11</td>\n",
       "      <td>0</td>\n",
       "      <td>1</td>\n",
       "      <td>2012/5/1</td>\n",
       "    </tr>\n",
       "  </tbody>\n",
       "</table>\n",
       "</div>"
      ],
      "text/plain": [
       "   Age  Gender  Impressions  Clicks  Signed_In      date\n",
       "0   36       0            3       0          1  2012/5/1\n",
       "1   73       1            3       0          1  2012/5/1\n",
       "2   30       0            3       0          1  2012/5/1\n",
       "3   49       1            3       0          1  2012/5/1\n",
       "4   47       1           11       0          1  2012/5/1"
      ]
     },
     "execution_count": 46,
     "metadata": {},
     "output_type": "execute_result"
    }
   ],
   "source": [
    "df.head()"
   ]
  },
  {
   "cell_type": "code",
   "execution_count": 47,
   "metadata": {
    "ExecuteTime": {
     "end_time": "2019-03-01T06:52:52.184848Z",
     "start_time": "2019-03-01T06:52:50.926336Z"
    }
   },
   "outputs": [
    {
     "data": {
      "text/html": [
       "<div>\n",
       "<style scoped>\n",
       "    .dataframe tbody tr th:only-of-type {\n",
       "        vertical-align: middle;\n",
       "    }\n",
       "\n",
       "    .dataframe tbody tr th {\n",
       "        vertical-align: top;\n",
       "    }\n",
       "\n",
       "    .dataframe thead th {\n",
       "        text-align: right;\n",
       "    }\n",
       "</style>\n",
       "<table border=\"1\" class=\"dataframe\">\n",
       "  <thead>\n",
       "    <tr style=\"text-align: right;\">\n",
       "      <th></th>\n",
       "      <th>Age</th>\n",
       "      <th>Gender</th>\n",
       "      <th>Impressions</th>\n",
       "      <th>Clicks</th>\n",
       "      <th>Signed_In</th>\n",
       "      <th>date</th>\n",
       "    </tr>\n",
       "  </thead>\n",
       "  <tbody>\n",
       "    <tr>\n",
       "      <th>850963</th>\n",
       "      <td>28</td>\n",
       "      <td>0</td>\n",
       "      <td>3</td>\n",
       "      <td>0</td>\n",
       "      <td>1</td>\n",
       "      <td>2012/5/2</td>\n",
       "    </tr>\n",
       "    <tr>\n",
       "      <th>2435810</th>\n",
       "      <td>0</td>\n",
       "      <td>0</td>\n",
       "      <td>5</td>\n",
       "      <td>0</td>\n",
       "      <td>0</td>\n",
       "      <td>2012/5/6</td>\n",
       "    </tr>\n",
       "    <tr>\n",
       "      <th>5092437</th>\n",
       "      <td>0</td>\n",
       "      <td>0</td>\n",
       "      <td>6</td>\n",
       "      <td>0</td>\n",
       "      <td>0</td>\n",
       "      <td>2012/5/11</td>\n",
       "    </tr>\n",
       "    <tr>\n",
       "      <th>7101384</th>\n",
       "      <td>42</td>\n",
       "      <td>1</td>\n",
       "      <td>8</td>\n",
       "      <td>0</td>\n",
       "      <td>1</td>\n",
       "      <td>2012/5/15</td>\n",
       "    </tr>\n",
       "    <tr>\n",
       "      <th>1969202</th>\n",
       "      <td>0</td>\n",
       "      <td>0</td>\n",
       "      <td>5</td>\n",
       "      <td>0</td>\n",
       "      <td>0</td>\n",
       "      <td>2012/5/5</td>\n",
       "    </tr>\n",
       "  </tbody>\n",
       "</table>\n",
       "</div>"
      ],
      "text/plain": [
       "         Age  Gender  Impressions  Clicks  Signed_In       date\n",
       "850963    28       0            3       0          1   2012/5/2\n",
       "2435810    0       0            5       0          0   2012/5/6\n",
       "5092437    0       0            6       0          0  2012/5/11\n",
       "7101384   42       1            8       0          1  2012/5/15\n",
       "1969202    0       0            5       0          0   2012/5/5"
      ]
     },
     "execution_count": 47,
     "metadata": {},
     "output_type": "execute_result"
    }
   ],
   "source": [
    "df.sample(5)"
   ]
  },
  {
   "cell_type": "code",
   "execution_count": 48,
   "metadata": {
    "ExecuteTime": {
     "end_time": "2019-03-01T06:52:52.201838Z",
     "start_time": "2019-03-01T06:52:52.188847Z"
    }
   },
   "outputs": [
    {
     "data": {
      "text/html": [
       "<div>\n",
       "<style scoped>\n",
       "    .dataframe tbody tr th:only-of-type {\n",
       "        vertical-align: middle;\n",
       "    }\n",
       "\n",
       "    .dataframe tbody tr th {\n",
       "        vertical-align: top;\n",
       "    }\n",
       "\n",
       "    .dataframe thead th {\n",
       "        text-align: right;\n",
       "    }\n",
       "</style>\n",
       "<table border=\"1\" class=\"dataframe\">\n",
       "  <thead>\n",
       "    <tr style=\"text-align: right;\">\n",
       "      <th></th>\n",
       "      <th>Age</th>\n",
       "      <th>Gender</th>\n",
       "      <th>Impressions</th>\n",
       "      <th>Clicks</th>\n",
       "      <th>Signed_In</th>\n",
       "      <th>date</th>\n",
       "    </tr>\n",
       "  </thead>\n",
       "  <tbody>\n",
       "    <tr>\n",
       "      <th>14905860</th>\n",
       "      <td>41</td>\n",
       "      <td>1</td>\n",
       "      <td>4</td>\n",
       "      <td>0</td>\n",
       "      <td>1</td>\n",
       "      <td>2012/5/31</td>\n",
       "    </tr>\n",
       "    <tr>\n",
       "      <th>14905861</th>\n",
       "      <td>0</td>\n",
       "      <td>0</td>\n",
       "      <td>5</td>\n",
       "      <td>0</td>\n",
       "      <td>0</td>\n",
       "      <td>2012/5/31</td>\n",
       "    </tr>\n",
       "    <tr>\n",
       "      <th>14905862</th>\n",
       "      <td>22</td>\n",
       "      <td>1</td>\n",
       "      <td>3</td>\n",
       "      <td>0</td>\n",
       "      <td>1</td>\n",
       "      <td>2012/5/31</td>\n",
       "    </tr>\n",
       "    <tr>\n",
       "      <th>14905863</th>\n",
       "      <td>59</td>\n",
       "      <td>0</td>\n",
       "      <td>5</td>\n",
       "      <td>1</td>\n",
       "      <td>1</td>\n",
       "      <td>2012/5/31</td>\n",
       "    </tr>\n",
       "    <tr>\n",
       "      <th>14905864</th>\n",
       "      <td>29</td>\n",
       "      <td>1</td>\n",
       "      <td>4</td>\n",
       "      <td>0</td>\n",
       "      <td>1</td>\n",
       "      <td>2012/5/31</td>\n",
       "    </tr>\n",
       "  </tbody>\n",
       "</table>\n",
       "</div>"
      ],
      "text/plain": [
       "          Age  Gender  Impressions  Clicks  Signed_In       date\n",
       "14905860   41       1            4       0          1  2012/5/31\n",
       "14905861    0       0            5       0          0  2012/5/31\n",
       "14905862   22       1            3       0          1  2012/5/31\n",
       "14905863   59       0            5       1          1  2012/5/31\n",
       "14905864   29       1            4       0          1  2012/5/31"
      ]
     },
     "execution_count": 48,
     "metadata": {},
     "output_type": "execute_result"
    }
   ],
   "source": [
    "df.tail()"
   ]
  },
  {
   "cell_type": "code",
   "execution_count": 49,
   "metadata": {
    "ExecuteTime": {
     "end_time": "2019-03-01T06:52:52.332419Z",
     "start_time": "2019-03-01T06:52:52.204835Z"
    },
    "scrolled": true
   },
   "outputs": [
    {
     "data": {
      "text/plain": [
       "(14905865, 6)"
      ]
     },
     "execution_count": 49,
     "metadata": {},
     "output_type": "execute_result"
    }
   ],
   "source": [
    "df.shape"
   ]
  },
  {
   "cell_type": "markdown",
   "metadata": {},
   "source": [
    "The shape of the data frame and the last index confirm the merge was done correctly and also the indexing.\n",
    "### Cleaning the merged data frame\n",
    "Now let's clean the complete data frame, that is:\n",
    "1. Remove observations with `0` impressions.\n",
    "2. Assign `'unknown'` gender for observations with unlogged people.\n",
    "3. Create `'unknown'` age group for observations with unlogged people."
   ]
  },
  {
   "cell_type": "code",
   "execution_count": 50,
   "metadata": {
    "ExecuteTime": {
     "end_time": "2019-03-01T06:53:06.712075Z",
     "start_time": "2019-03-01T06:52:52.338412Z"
    }
   },
   "outputs": [],
   "source": [
    "# Select only observations with impressions greater than 0.\n",
    "df = df[df['Impressions'] > 0]\n",
    "\n",
    "# Assign 'unknown' for people that did not sign in, \n",
    "#        'male' for 1 and 'famele' for 0.\n",
    "df.loc[df.Gender == 1, 'Gender'] = 'male'\n",
    "df.loc[df.Gender == 0, 'Gender'] = 'female'\n",
    "df.loc[df.Signed_In == 0, 'Gender'] = 'unknown'\n",
    "\n",
    "# Create groups according to ages.\n",
    "bins = [0, 1, 18, 25, 35, 45, 55, 65, np.Inf]\n",
    "labels = ['unknown', '<18', '18-24', '25-34', '35-44', '45-54', '55-64', '65+']\n",
    "df['age_group'] = pd.cut(df.Age, bins=bins, labels=labels, right=False)\n",
    "\n",
    "# Setting dtypes for each column to improve memory usage and speed.\n",
    "df = df.astype({'age_group':'category',\n",
    "               'Gender':'category',\n",
    "                'Signed_In':'bool',\n",
    "               'date':'datetime64[ns]'})"
   ]
  },
  {
   "cell_type": "code",
   "execution_count": 51,
   "metadata": {
    "ExecuteTime": {
     "end_time": "2019-03-01T06:53:06.726066Z",
     "start_time": "2019-03-01T06:53:06.714073Z"
    }
   },
   "outputs": [
    {
     "name": "stdout",
     "output_type": "stream",
     "text": [
      "<class 'pandas.core.frame.DataFrame'>\n",
      "Int64Index: 14805865 entries, 0 to 14905864\n",
      "Data columns (total 7 columns):\n",
      "Age            int64\n",
      "Gender         category\n",
      "Impressions    int64\n",
      "Clicks         int64\n",
      "Signed_In      bool\n",
      "date           datetime64[ns]\n",
      "age_group      category\n",
      "dtypes: bool(1), category(2), datetime64[ns](1), int64(3)\n",
      "memory usage: 607.2 MB\n"
     ]
    }
   ],
   "source": [
    "df.info()"
   ]
  },
  {
   "cell_type": "code",
   "execution_count": 52,
   "metadata": {
    "ExecuteTime": {
     "end_time": "2019-03-01T06:53:11.239272Z",
     "start_time": "2019-03-01T06:53:06.731064Z"
    }
   },
   "outputs": [
    {
     "data": {
      "text/html": [
       "<div>\n",
       "<style scoped>\n",
       "    .dataframe tbody tr th:only-of-type {\n",
       "        vertical-align: middle;\n",
       "    }\n",
       "\n",
       "    .dataframe tbody tr th {\n",
       "        vertical-align: top;\n",
       "    }\n",
       "\n",
       "    .dataframe thead th {\n",
       "        text-align: right;\n",
       "    }\n",
       "</style>\n",
       "<table border=\"1\" class=\"dataframe\">\n",
       "  <thead>\n",
       "    <tr style=\"text-align: right;\">\n",
       "      <th></th>\n",
       "      <th>Age</th>\n",
       "      <th>Impressions</th>\n",
       "      <th>Clicks</th>\n",
       "    </tr>\n",
       "  </thead>\n",
       "  <tbody>\n",
       "    <tr>\n",
       "      <th>count</th>\n",
       "      <td>1.480586e+07</td>\n",
       "      <td>1.480586e+07</td>\n",
       "      <td>1.480586e+07</td>\n",
       "    </tr>\n",
       "    <tr>\n",
       "      <th>mean</th>\n",
       "      <td>2.624290e+01</td>\n",
       "      <td>5.033280e+00</td>\n",
       "      <td>9.839128e-02</td>\n",
       "    </tr>\n",
       "    <tr>\n",
       "      <th>std</th>\n",
       "      <td>2.412952e+01</td>\n",
       "      <td>2.205137e+00</td>\n",
       "      <td>3.199722e-01</td>\n",
       "    </tr>\n",
       "    <tr>\n",
       "      <th>min</th>\n",
       "      <td>0.000000e+00</td>\n",
       "      <td>1.000000e+00</td>\n",
       "      <td>0.000000e+00</td>\n",
       "    </tr>\n",
       "    <tr>\n",
       "      <th>25%</th>\n",
       "      <td>0.000000e+00</td>\n",
       "      <td>3.000000e+00</td>\n",
       "      <td>0.000000e+00</td>\n",
       "    </tr>\n",
       "    <tr>\n",
       "      <th>50%</th>\n",
       "      <td>2.600000e+01</td>\n",
       "      <td>5.000000e+00</td>\n",
       "      <td>0.000000e+00</td>\n",
       "    </tr>\n",
       "    <tr>\n",
       "      <th>75%</th>\n",
       "      <td>4.600000e+01</td>\n",
       "      <td>6.000000e+00</td>\n",
       "      <td>0.000000e+00</td>\n",
       "    </tr>\n",
       "    <tr>\n",
       "      <th>max</th>\n",
       "      <td>1.150000e+02</td>\n",
       "      <td>2.100000e+01</td>\n",
       "      <td>6.000000e+00</td>\n",
       "    </tr>\n",
       "  </tbody>\n",
       "</table>\n",
       "</div>"
      ],
      "text/plain": [
       "                Age   Impressions        Clicks\n",
       "count  1.480586e+07  1.480586e+07  1.480586e+07\n",
       "mean   2.624290e+01  5.033280e+00  9.839128e-02\n",
       "std    2.412952e+01  2.205137e+00  3.199722e-01\n",
       "min    0.000000e+00  1.000000e+00  0.000000e+00\n",
       "25%    0.000000e+00  3.000000e+00  0.000000e+00\n",
       "50%    2.600000e+01  5.000000e+00  0.000000e+00\n",
       "75%    4.600000e+01  6.000000e+00  0.000000e+00\n",
       "max    1.150000e+02  2.100000e+01  6.000000e+00"
      ]
     },
     "execution_count": 52,
     "metadata": {},
     "output_type": "execute_result"
    }
   ],
   "source": [
    "df.describe()"
   ]
  },
  {
   "cell_type": "code",
   "execution_count": 53,
   "metadata": {
    "ExecuteTime": {
     "end_time": "2019-03-01T06:53:11.254260Z",
     "start_time": "2019-03-01T06:53:11.242268Z"
    },
    "scrolled": true
   },
   "outputs": [
    {
     "data": {
      "text/plain": [
       "Index          118446920\n",
       "Age            118446920\n",
       "Gender          14805969\n",
       "Impressions    118446920\n",
       "Clicks         118446920\n",
       "Signed_In       14805865\n",
       "date           118446920\n",
       "age_group       14806249\n",
       "dtype: int64"
      ]
     },
     "execution_count": 53,
     "metadata": {},
     "output_type": "execute_result"
    }
   ],
   "source": [
    "df.memory_usage()"
   ]
  },
  {
   "cell_type": "code",
   "execution_count": 54,
   "metadata": {
    "ExecuteTime": {
     "end_time": "2019-03-01T06:53:11.391177Z",
     "start_time": "2019-03-01T06:53:11.257259Z"
    },
    "scrolled": false
   },
   "outputs": [
    {
     "data": {
      "text/html": [
       "<div>\n",
       "<style scoped>\n",
       "    .dataframe tbody tr th:only-of-type {\n",
       "        vertical-align: middle;\n",
       "    }\n",
       "\n",
       "    .dataframe tbody tr th {\n",
       "        vertical-align: top;\n",
       "    }\n",
       "\n",
       "    .dataframe thead th {\n",
       "        text-align: right;\n",
       "    }\n",
       "</style>\n",
       "<table border=\"1\" class=\"dataframe\">\n",
       "  <thead>\n",
       "    <tr style=\"text-align: right;\">\n",
       "      <th></th>\n",
       "      <th>Age</th>\n",
       "      <th>Gender</th>\n",
       "      <th>Impressions</th>\n",
       "      <th>Clicks</th>\n",
       "      <th>Signed_In</th>\n",
       "      <th>date</th>\n",
       "      <th>age_group</th>\n",
       "    </tr>\n",
       "  </thead>\n",
       "  <tbody>\n",
       "    <tr>\n",
       "      <th>0</th>\n",
       "      <td>36</td>\n",
       "      <td>female</td>\n",
       "      <td>3</td>\n",
       "      <td>0</td>\n",
       "      <td>True</td>\n",
       "      <td>2012-05-01</td>\n",
       "      <td>35-44</td>\n",
       "    </tr>\n",
       "    <tr>\n",
       "      <th>1</th>\n",
       "      <td>73</td>\n",
       "      <td>male</td>\n",
       "      <td>3</td>\n",
       "      <td>0</td>\n",
       "      <td>True</td>\n",
       "      <td>2012-05-01</td>\n",
       "      <td>65+</td>\n",
       "    </tr>\n",
       "    <tr>\n",
       "      <th>2</th>\n",
       "      <td>30</td>\n",
       "      <td>female</td>\n",
       "      <td>3</td>\n",
       "      <td>0</td>\n",
       "      <td>True</td>\n",
       "      <td>2012-05-01</td>\n",
       "      <td>25-34</td>\n",
       "    </tr>\n",
       "    <tr>\n",
       "      <th>3</th>\n",
       "      <td>49</td>\n",
       "      <td>male</td>\n",
       "      <td>3</td>\n",
       "      <td>0</td>\n",
       "      <td>True</td>\n",
       "      <td>2012-05-01</td>\n",
       "      <td>45-54</td>\n",
       "    </tr>\n",
       "    <tr>\n",
       "      <th>4</th>\n",
       "      <td>47</td>\n",
       "      <td>male</td>\n",
       "      <td>11</td>\n",
       "      <td>0</td>\n",
       "      <td>True</td>\n",
       "      <td>2012-05-01</td>\n",
       "      <td>45-54</td>\n",
       "    </tr>\n",
       "  </tbody>\n",
       "</table>\n",
       "</div>"
      ],
      "text/plain": [
       "   Age  Gender  Impressions  Clicks  Signed_In       date age_group\n",
       "0   36  female            3       0       True 2012-05-01     35-44\n",
       "1   73    male            3       0       True 2012-05-01       65+\n",
       "2   30  female            3       0       True 2012-05-01     25-34\n",
       "3   49    male            3       0       True 2012-05-01     45-54\n",
       "4   47    male           11       0       True 2012-05-01     45-54"
      ]
     },
     "execution_count": 54,
     "metadata": {},
     "output_type": "execute_result"
    }
   ],
   "source": [
    "df.head()"
   ]
  },
  {
   "cell_type": "code",
   "execution_count": 55,
   "metadata": {
    "ExecuteTime": {
     "end_time": "2019-03-01T06:53:12.876256Z",
     "start_time": "2019-03-01T06:53:11.396178Z"
    }
   },
   "outputs": [
    {
     "data": {
      "text/html": [
       "<div>\n",
       "<style scoped>\n",
       "    .dataframe tbody tr th:only-of-type {\n",
       "        vertical-align: middle;\n",
       "    }\n",
       "\n",
       "    .dataframe tbody tr th {\n",
       "        vertical-align: top;\n",
       "    }\n",
       "\n",
       "    .dataframe thead th {\n",
       "        text-align: right;\n",
       "    }\n",
       "</style>\n",
       "<table border=\"1\" class=\"dataframe\">\n",
       "  <thead>\n",
       "    <tr style=\"text-align: right;\">\n",
       "      <th></th>\n",
       "      <th>Age</th>\n",
       "      <th>Gender</th>\n",
       "      <th>Impressions</th>\n",
       "      <th>Clicks</th>\n",
       "      <th>Signed_In</th>\n",
       "      <th>date</th>\n",
       "      <th>age_group</th>\n",
       "    </tr>\n",
       "  </thead>\n",
       "  <tbody>\n",
       "    <tr>\n",
       "      <th>11168131</th>\n",
       "      <td>0</td>\n",
       "      <td>unknown</td>\n",
       "      <td>4</td>\n",
       "      <td>0</td>\n",
       "      <td>False</td>\n",
       "      <td>2012-05-24</td>\n",
       "      <td>unknown</td>\n",
       "    </tr>\n",
       "    <tr>\n",
       "      <th>5975253</th>\n",
       "      <td>0</td>\n",
       "      <td>unknown</td>\n",
       "      <td>5</td>\n",
       "      <td>0</td>\n",
       "      <td>False</td>\n",
       "      <td>2012-05-13</td>\n",
       "      <td>unknown</td>\n",
       "    </tr>\n",
       "    <tr>\n",
       "      <th>65562</th>\n",
       "      <td>58</td>\n",
       "      <td>male</td>\n",
       "      <td>5</td>\n",
       "      <td>0</td>\n",
       "      <td>True</td>\n",
       "      <td>2012-05-01</td>\n",
       "      <td>55-64</td>\n",
       "    </tr>\n",
       "    <tr>\n",
       "      <th>12535465</th>\n",
       "      <td>0</td>\n",
       "      <td>unknown</td>\n",
       "      <td>7</td>\n",
       "      <td>0</td>\n",
       "      <td>False</td>\n",
       "      <td>2012-05-27</td>\n",
       "      <td>unknown</td>\n",
       "    </tr>\n",
       "    <tr>\n",
       "      <th>1870458</th>\n",
       "      <td>84</td>\n",
       "      <td>female</td>\n",
       "      <td>1</td>\n",
       "      <td>0</td>\n",
       "      <td>True</td>\n",
       "      <td>2012-05-05</td>\n",
       "      <td>65+</td>\n",
       "    </tr>\n",
       "  </tbody>\n",
       "</table>\n",
       "</div>"
      ],
      "text/plain": [
       "          Age   Gender  Impressions  Clicks  Signed_In       date age_group\n",
       "11168131    0  unknown            4       0      False 2012-05-24   unknown\n",
       "5975253     0  unknown            5       0      False 2012-05-13   unknown\n",
       "65562      58     male            5       0       True 2012-05-01     55-64\n",
       "12535465    0  unknown            7       0      False 2012-05-27   unknown\n",
       "1870458    84   female            1       0       True 2012-05-05       65+"
      ]
     },
     "execution_count": 55,
     "metadata": {},
     "output_type": "execute_result"
    }
   ],
   "source": [
    "df.sample(5)"
   ]
  },
  {
   "cell_type": "code",
   "execution_count": 56,
   "metadata": {
    "ExecuteTime": {
     "end_time": "2019-03-01T06:53:12.904240Z",
     "start_time": "2019-03-01T06:53:12.881255Z"
    },
    "scrolled": true
   },
   "outputs": [
    {
     "data": {
      "text/html": [
       "<div>\n",
       "<style scoped>\n",
       "    .dataframe tbody tr th:only-of-type {\n",
       "        vertical-align: middle;\n",
       "    }\n",
       "\n",
       "    .dataframe tbody tr th {\n",
       "        vertical-align: top;\n",
       "    }\n",
       "\n",
       "    .dataframe thead th {\n",
       "        text-align: right;\n",
       "    }\n",
       "</style>\n",
       "<table border=\"1\" class=\"dataframe\">\n",
       "  <thead>\n",
       "    <tr style=\"text-align: right;\">\n",
       "      <th></th>\n",
       "      <th>Age</th>\n",
       "      <th>Gender</th>\n",
       "      <th>Impressions</th>\n",
       "      <th>Clicks</th>\n",
       "      <th>Signed_In</th>\n",
       "      <th>date</th>\n",
       "      <th>age_group</th>\n",
       "    </tr>\n",
       "  </thead>\n",
       "  <tbody>\n",
       "    <tr>\n",
       "      <th>14905860</th>\n",
       "      <td>41</td>\n",
       "      <td>male</td>\n",
       "      <td>4</td>\n",
       "      <td>0</td>\n",
       "      <td>True</td>\n",
       "      <td>2012-05-31</td>\n",
       "      <td>35-44</td>\n",
       "    </tr>\n",
       "    <tr>\n",
       "      <th>14905861</th>\n",
       "      <td>0</td>\n",
       "      <td>unknown</td>\n",
       "      <td>5</td>\n",
       "      <td>0</td>\n",
       "      <td>False</td>\n",
       "      <td>2012-05-31</td>\n",
       "      <td>unknown</td>\n",
       "    </tr>\n",
       "    <tr>\n",
       "      <th>14905862</th>\n",
       "      <td>22</td>\n",
       "      <td>male</td>\n",
       "      <td>3</td>\n",
       "      <td>0</td>\n",
       "      <td>True</td>\n",
       "      <td>2012-05-31</td>\n",
       "      <td>18-24</td>\n",
       "    </tr>\n",
       "    <tr>\n",
       "      <th>14905863</th>\n",
       "      <td>59</td>\n",
       "      <td>female</td>\n",
       "      <td>5</td>\n",
       "      <td>1</td>\n",
       "      <td>True</td>\n",
       "      <td>2012-05-31</td>\n",
       "      <td>55-64</td>\n",
       "    </tr>\n",
       "    <tr>\n",
       "      <th>14905864</th>\n",
       "      <td>29</td>\n",
       "      <td>male</td>\n",
       "      <td>4</td>\n",
       "      <td>0</td>\n",
       "      <td>True</td>\n",
       "      <td>2012-05-31</td>\n",
       "      <td>25-34</td>\n",
       "    </tr>\n",
       "  </tbody>\n",
       "</table>\n",
       "</div>"
      ],
      "text/plain": [
       "          Age   Gender  Impressions  Clicks  Signed_In       date age_group\n",
       "14905860   41     male            4       0       True 2012-05-31     35-44\n",
       "14905861    0  unknown            5       0      False 2012-05-31   unknown\n",
       "14905862   22     male            3       0       True 2012-05-31     18-24\n",
       "14905863   59   female            5       1       True 2012-05-31     55-64\n",
       "14905864   29     male            4       0       True 2012-05-31     25-34"
      ]
     },
     "execution_count": 56,
     "metadata": {},
     "output_type": "execute_result"
    }
   ],
   "source": [
    "df.tail()"
   ]
  },
  {
   "cell_type": "code",
   "execution_count": 57,
   "metadata": {
    "ExecuteTime": {
     "end_time": "2019-03-01T06:53:15.848744Z",
     "start_time": "2019-03-01T06:53:12.907238Z"
    }
   },
   "outputs": [],
   "source": [
    "df_grouped = df.groupby(['date', 'age_group', 'Gender', 'Signed_In'], as_index=False)['Impressions', 'Clicks'].sum()"
   ]
  },
  {
   "cell_type": "code",
   "execution_count": 58,
   "metadata": {
    "ExecuteTime": {
     "end_time": "2019-03-01T06:53:15.860740Z",
     "start_time": "2019-03-01T06:53:15.850743Z"
    }
   },
   "outputs": [],
   "source": [
    "df_grouped.dropna(inplace=True)"
   ]
  },
  {
   "cell_type": "code",
   "execution_count": 59,
   "metadata": {
    "ExecuteTime": {
     "end_time": "2019-03-01T06:53:16.061873Z",
     "start_time": "2019-03-01T06:53:15.863736Z"
    }
   },
   "outputs": [],
   "source": [
    "df_grouped['CTR'] = (df_grouped.Clicks / df_grouped.Impressions) * 100"
   ]
  },
  {
   "cell_type": "code",
   "execution_count": 60,
   "metadata": {
    "ExecuteTime": {
     "end_time": "2019-03-01T06:53:16.244497Z",
     "start_time": "2019-03-01T06:53:16.064862Z"
    }
   },
   "outputs": [
    {
     "data": {
      "text/html": [
       "<div>\n",
       "<style scoped>\n",
       "    .dataframe tbody tr th:only-of-type {\n",
       "        vertical-align: middle;\n",
       "    }\n",
       "\n",
       "    .dataframe tbody tr th {\n",
       "        vertical-align: top;\n",
       "    }\n",
       "\n",
       "    .dataframe thead th {\n",
       "        text-align: right;\n",
       "    }\n",
       "</style>\n",
       "<table border=\"1\" class=\"dataframe\">\n",
       "  <thead>\n",
       "    <tr style=\"text-align: right;\">\n",
       "      <th></th>\n",
       "      <th>date</th>\n",
       "      <th>age_group</th>\n",
       "      <th>Gender</th>\n",
       "      <th>Signed_In</th>\n",
       "      <th>Impressions</th>\n",
       "      <th>Clicks</th>\n",
       "      <th>CTR</th>\n",
       "    </tr>\n",
       "  </thead>\n",
       "  <tbody>\n",
       "    <tr>\n",
       "      <th>4</th>\n",
       "      <td>2012-05-01</td>\n",
       "      <td>unknown</td>\n",
       "      <td>unknown</td>\n",
       "      <td>False</td>\n",
       "      <td>685483.0</td>\n",
       "      <td>19480.0</td>\n",
       "      <td>2.841792</td>\n",
       "    </tr>\n",
       "    <tr>\n",
       "      <th>7</th>\n",
       "      <td>2012-05-01</td>\n",
       "      <td>&lt;18</td>\n",
       "      <td>female</td>\n",
       "      <td>True</td>\n",
       "      <td>21800.0</td>\n",
       "      <td>683.0</td>\n",
       "      <td>3.133028</td>\n",
       "    </tr>\n",
       "    <tr>\n",
       "      <th>9</th>\n",
       "      <td>2012-05-01</td>\n",
       "      <td>&lt;18</td>\n",
       "      <td>male</td>\n",
       "      <td>True</td>\n",
       "      <td>47439.0</td>\n",
       "      <td>1382.0</td>\n",
       "      <td>2.913215</td>\n",
       "    </tr>\n",
       "    <tr>\n",
       "      <th>13</th>\n",
       "      <td>2012-05-01</td>\n",
       "      <td>18-24</td>\n",
       "      <td>female</td>\n",
       "      <td>True</td>\n",
       "      <td>95057.0</td>\n",
       "      <td>1002.0</td>\n",
       "      <td>1.054104</td>\n",
       "    </tr>\n",
       "    <tr>\n",
       "      <th>15</th>\n",
       "      <td>2012-05-01</td>\n",
       "      <td>18-24</td>\n",
       "      <td>male</td>\n",
       "      <td>True</td>\n",
       "      <td>108528.0</td>\n",
       "      <td>1165.0</td>\n",
       "      <td>1.073456</td>\n",
       "    </tr>\n",
       "  </tbody>\n",
       "</table>\n",
       "</div>"
      ],
      "text/plain": [
       "         date age_group   Gender  Signed_In  Impressions   Clicks       CTR\n",
       "4  2012-05-01   unknown  unknown      False     685483.0  19480.0  2.841792\n",
       "7  2012-05-01       <18   female       True      21800.0    683.0  3.133028\n",
       "9  2012-05-01       <18     male       True      47439.0   1382.0  2.913215\n",
       "13 2012-05-01     18-24   female       True      95057.0   1002.0  1.054104\n",
       "15 2012-05-01     18-24     male       True     108528.0   1165.0  1.073456"
      ]
     },
     "execution_count": 60,
     "metadata": {},
     "output_type": "execute_result"
    }
   ],
   "source": [
    "df_grouped.head()"
   ]
  },
  {
   "cell_type": "code",
   "execution_count": 61,
   "metadata": {
    "ExecuteTime": {
     "end_time": "2019-03-01T06:53:16.462361Z",
     "start_time": "2019-03-01T06:53:16.247496Z"
    }
   },
   "outputs": [
    {
     "data": {
      "text/html": [
       "<div>\n",
       "<style scoped>\n",
       "    .dataframe tbody tr th:only-of-type {\n",
       "        vertical-align: middle;\n",
       "    }\n",
       "\n",
       "    .dataframe tbody tr th {\n",
       "        vertical-align: top;\n",
       "    }\n",
       "\n",
       "    .dataframe thead th {\n",
       "        text-align: right;\n",
       "    }\n",
       "</style>\n",
       "<table border=\"1\" class=\"dataframe\">\n",
       "  <thead>\n",
       "    <tr style=\"text-align: right;\">\n",
       "      <th></th>\n",
       "      <th>date</th>\n",
       "      <th>age_group</th>\n",
       "      <th>Gender</th>\n",
       "      <th>Signed_In</th>\n",
       "      <th>Impressions</th>\n",
       "      <th>Clicks</th>\n",
       "      <th>CTR</th>\n",
       "    </tr>\n",
       "  </thead>\n",
       "  <tbody>\n",
       "    <tr>\n",
       "      <th>1117</th>\n",
       "      <td>2012-05-24</td>\n",
       "      <td>18-24</td>\n",
       "      <td>female</td>\n",
       "      <td>True</td>\n",
       "      <td>73019.0</td>\n",
       "      <td>824.0</td>\n",
       "      <td>1.128473</td>\n",
       "    </tr>\n",
       "    <tr>\n",
       "      <th>715</th>\n",
       "      <td>2012-05-15</td>\n",
       "      <td>65+</td>\n",
       "      <td>female</td>\n",
       "      <td>True</td>\n",
       "      <td>70208.0</td>\n",
       "      <td>2016.0</td>\n",
       "      <td>2.871468</td>\n",
       "    </tr>\n",
       "    <tr>\n",
       "      <th>1291</th>\n",
       "      <td>2012-05-27</td>\n",
       "      <td>65+</td>\n",
       "      <td>female</td>\n",
       "      <td>True</td>\n",
       "      <td>118465.0</td>\n",
       "      <td>3553.0</td>\n",
       "      <td>2.999198</td>\n",
       "    </tr>\n",
       "    <tr>\n",
       "      <th>969</th>\n",
       "      <td>2012-05-21</td>\n",
       "      <td>&lt;18</td>\n",
       "      <td>male</td>\n",
       "      <td>True</td>\n",
       "      <td>37536.0</td>\n",
       "      <td>1043.0</td>\n",
       "      <td>2.778666</td>\n",
       "    </tr>\n",
       "    <tr>\n",
       "      <th>459</th>\n",
       "      <td>2012-05-10</td>\n",
       "      <td>35-44</td>\n",
       "      <td>male</td>\n",
       "      <td>True</td>\n",
       "      <td>182847.0</td>\n",
       "      <td>1777.0</td>\n",
       "      <td>0.971851</td>\n",
       "    </tr>\n",
       "    <tr>\n",
       "      <th>1465</th>\n",
       "      <td>2012-05-31</td>\n",
       "      <td>35-44</td>\n",
       "      <td>female</td>\n",
       "      <td>True</td>\n",
       "      <td>162336.0</td>\n",
       "      <td>1647.0</td>\n",
       "      <td>1.014562</td>\n",
       "    </tr>\n",
       "    <tr>\n",
       "      <th>7</th>\n",
       "      <td>2012-05-01</td>\n",
       "      <td>&lt;18</td>\n",
       "      <td>female</td>\n",
       "      <td>True</td>\n",
       "      <td>21800.0</td>\n",
       "      <td>683.0</td>\n",
       "      <td>3.133028</td>\n",
       "    </tr>\n",
       "    <tr>\n",
       "      <th>367</th>\n",
       "      <td>2012-05-08</td>\n",
       "      <td>45-54</td>\n",
       "      <td>female</td>\n",
       "      <td>True</td>\n",
       "      <td>151059.0</td>\n",
       "      <td>1451.0</td>\n",
       "      <td>0.960552</td>\n",
       "    </tr>\n",
       "    <tr>\n",
       "      <th>1429</th>\n",
       "      <td>2012-05-30</td>\n",
       "      <td>55-64</td>\n",
       "      <td>female</td>\n",
       "      <td>True</td>\n",
       "      <td>84995.0</td>\n",
       "      <td>1681.0</td>\n",
       "      <td>1.977763</td>\n",
       "    </tr>\n",
       "    <tr>\n",
       "      <th>793</th>\n",
       "      <td>2012-05-17</td>\n",
       "      <td>35-44</td>\n",
       "      <td>female</td>\n",
       "      <td>True</td>\n",
       "      <td>124930.0</td>\n",
       "      <td>1224.0</td>\n",
       "      <td>0.979749</td>\n",
       "    </tr>\n",
       "  </tbody>\n",
       "</table>\n",
       "</div>"
      ],
      "text/plain": [
       "           date age_group  Gender  Signed_In  Impressions  Clicks       CTR\n",
       "1117 2012-05-24     18-24  female       True      73019.0   824.0  1.128473\n",
       "715  2012-05-15       65+  female       True      70208.0  2016.0  2.871468\n",
       "1291 2012-05-27       65+  female       True     118465.0  3553.0  2.999198\n",
       "969  2012-05-21       <18    male       True      37536.0  1043.0  2.778666\n",
       "459  2012-05-10     35-44    male       True     182847.0  1777.0  0.971851\n",
       "1465 2012-05-31     35-44  female       True     162336.0  1647.0  1.014562\n",
       "7    2012-05-01       <18  female       True      21800.0   683.0  3.133028\n",
       "367  2012-05-08     45-54  female       True     151059.0  1451.0  0.960552\n",
       "1429 2012-05-30     55-64  female       True      84995.0  1681.0  1.977763\n",
       "793  2012-05-17     35-44  female       True     124930.0  1224.0  0.979749"
      ]
     },
     "execution_count": 61,
     "metadata": {},
     "output_type": "execute_result"
    }
   ],
   "source": [
    "df_grouped.sample(10)"
   ]
  },
  {
   "cell_type": "code",
   "execution_count": 62,
   "metadata": {
    "ExecuteTime": {
     "end_time": "2019-03-01T06:53:16.664461Z",
     "start_time": "2019-03-01T06:53:16.466360Z"
    }
   },
   "outputs": [
    {
     "data": {
      "text/html": [
       "<div>\n",
       "<style scoped>\n",
       "    .dataframe tbody tr th:only-of-type {\n",
       "        vertical-align: middle;\n",
       "    }\n",
       "\n",
       "    .dataframe tbody tr th {\n",
       "        vertical-align: top;\n",
       "    }\n",
       "\n",
       "    .dataframe thead th {\n",
       "        text-align: right;\n",
       "    }\n",
       "</style>\n",
       "<table border=\"1\" class=\"dataframe\">\n",
       "  <thead>\n",
       "    <tr style=\"text-align: right;\">\n",
       "      <th></th>\n",
       "      <th>date</th>\n",
       "      <th>age_group</th>\n",
       "      <th>Gender</th>\n",
       "      <th>Signed_In</th>\n",
       "      <th>Impressions</th>\n",
       "      <th>Clicks</th>\n",
       "      <th>CTR</th>\n",
       "    </tr>\n",
       "  </thead>\n",
       "  <tbody>\n",
       "    <tr>\n",
       "      <th>1473</th>\n",
       "      <td>2012-05-31</td>\n",
       "      <td>45-54</td>\n",
       "      <td>male</td>\n",
       "      <td>True</td>\n",
       "      <td>157481.0</td>\n",
       "      <td>1578.0</td>\n",
       "      <td>1.002026</td>\n",
       "    </tr>\n",
       "    <tr>\n",
       "      <th>1477</th>\n",
       "      <td>2012-05-31</td>\n",
       "      <td>55-64</td>\n",
       "      <td>female</td>\n",
       "      <td>True</td>\n",
       "      <td>103821.0</td>\n",
       "      <td>2127.0</td>\n",
       "      <td>2.048718</td>\n",
       "    </tr>\n",
       "    <tr>\n",
       "      <th>1479</th>\n",
       "      <td>2012-05-31</td>\n",
       "      <td>55-64</td>\n",
       "      <td>male</td>\n",
       "      <td>True</td>\n",
       "      <td>111429.0</td>\n",
       "      <td>2273.0</td>\n",
       "      <td>2.039864</td>\n",
       "    </tr>\n",
       "    <tr>\n",
       "      <th>1483</th>\n",
       "      <td>2012-05-31</td>\n",
       "      <td>65+</td>\n",
       "      <td>female</td>\n",
       "      <td>True</td>\n",
       "      <td>88676.0</td>\n",
       "      <td>2676.0</td>\n",
       "      <td>3.017727</td>\n",
       "    </tr>\n",
       "    <tr>\n",
       "      <th>1485</th>\n",
       "      <td>2012-05-31</td>\n",
       "      <td>65+</td>\n",
       "      <td>male</td>\n",
       "      <td>True</td>\n",
       "      <td>49105.0</td>\n",
       "      <td>1485.0</td>\n",
       "      <td>3.024132</td>\n",
       "    </tr>\n",
       "  </tbody>\n",
       "</table>\n",
       "</div>"
      ],
      "text/plain": [
       "           date age_group  Gender  Signed_In  Impressions  Clicks       CTR\n",
       "1473 2012-05-31     45-54    male       True     157481.0  1578.0  1.002026\n",
       "1477 2012-05-31     55-64  female       True     103821.0  2127.0  2.048718\n",
       "1479 2012-05-31     55-64    male       True     111429.0  2273.0  2.039864\n",
       "1483 2012-05-31       65+  female       True      88676.0  2676.0  3.017727\n",
       "1485 2012-05-31       65+    male       True      49105.0  1485.0  3.024132"
      ]
     },
     "execution_count": 62,
     "metadata": {},
     "output_type": "execute_result"
    }
   ],
   "source": [
    "df_grouped.tail()"
   ]
  },
  {
   "cell_type": "code",
   "execution_count": 63,
   "metadata": {
    "ExecuteTime": {
     "end_time": "2019-03-01T06:53:23.211093Z",
     "start_time": "2019-03-01T06:53:16.669459Z"
    }
   },
   "outputs": [
    {
     "data": {
      "image/png": "[encoded data removed]",
      "text/plain": [
       "<Figure size 432x288 with 1 Axes>"
      ]
     },
     "metadata": {},
     "output_type": "display_data"
    }
   ],
   "source": [
    "sns.lineplot(x='date', y='CTR', data=df_grouped, hue='age_group');"
   ]
  },
  {
   "cell_type": "code",
   "execution_count": 64,
   "metadata": {
    "ExecuteTime": {
     "end_time": "2019-03-01T06:53:25.207022Z",
     "start_time": "2019-03-01T06:53:23.215090Z"
    }
   },
   "outputs": [
    {
     "data": {
      "image/png": "[encoded data removed]",
      "text/plain": [
       "<Figure size 432x288 with 1 Axes>"
      ]
     },
     "metadata": {},
     "output_type": "display_data"
    }
   ],
   "source": [
    "sns.lineplot(x='date', y='CTR', data=df_grouped, hue='Gender');"
   ]
  }
 ],
 "metadata": {
  "kernelspec": {
   "display_name": "Python 3",
   "language": "python",
   "name": "python3"
  },
  "language_info": {
   "codemirror_mode": {
    "name": "ipython",
    "version": 3
   },
   "file_extension": ".py",
   "mimetype": "text/x-python",
   "name": "python",
   "nbconvert_exporter": "python",
   "pygments_lexer": "ipython3",
   "version": "3.6.5"
  },
  "latex_envs": {
   "LaTeX_envs_menu_present": true,
   "autoclose": true,
   "autocomplete": true,
   "bibliofile": "biblio.bib",
   "cite_by": "apalike",
   "current_citInitial": 1,
   "eqLabelWithNumbers": true,
   "eqNumInitial": 1,
   "hotkeys": {
    "equation": "Ctrl-E",
    "itemize": "Ctrl-I"
   },
   "labels_anchors": false,
   "latex_user_defs": false,
   "report_style_numbering": false,
   "user_envs_cfg": false
  },
  "toc": {
   "base_numbering": 1,
   "nav_menu": {
    "height": "239px",
    "width": "367px"
   },
   "number_sections": true,
   "sideBar": true,
   "skip_h1_title": true,
   "title_cell": "Table of Contents",
   "title_sidebar": "Contents",
   "toc_cell": false,
   "toc_position": {
    "height": "calc(100% - 180px)",
    "left": "10px",
    "top": "150px",
    "width": "165px"
   },
   "toc_section_display": true,
   "toc_window_display": true
  },
  "varInspector": {
   "cols": {
    "lenName": 16,
    "lenType": 16,
    "lenVar": 40
   },
   "kernels_config": {
    "python": {
     "delete_cmd_postfix": "",
     "delete_cmd_prefix": "del ",
     "library": "var_list.py",
     "varRefreshCmd": "print(var_dic_list())"
    },
    "r": {
     "delete_cmd_postfix": ") ",
     "delete_cmd_prefix": "rm(",
     "library": "var_list.r",
     "varRefreshCmd": "cat(var_dic_list()) "
    }
   },
   "types_to_exclude": [
    "module",
    "function",
    "builtin_function_or_method",
    "instance",
    "_Feature"
   ],
   "window_display": false
  }
 },
 "nbformat": 4,
 "nbformat_minor": 2
}
